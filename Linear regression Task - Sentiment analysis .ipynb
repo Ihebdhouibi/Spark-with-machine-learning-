{
 "cells": [
  {
   "cell_type": "markdown",
   "metadata": {},
   "source": [
    "# USA Air line tweets Sentiment analysis \n",
    "\n",
    "We are going to analyze how travelers in February 2015 expressed their feelings on Twitter.\n",
    "\n",
    "Dataset Download link : https://www.kaggle.com/crowdflower/twitter-airline-sentiment\n",
    "\n",
    "We will use spark machine learning utilities, feature engineering, data preprocessing to classify tweets as bad/good experience.\n",
    "\n"
   ]
  },
  {
   "cell_type": "code",
   "execution_count": 1,
   "metadata": {},
   "outputs": [],
   "source": [
    "import findspark\n",
    "findspark.init()\n",
    "\n",
    "from pyspark.sql import SparkSession \n",
    "from pyspark.ml.clustering import KMeans\n",
    "\n"
   ]
  },
  {
   "cell_type": "markdown",
   "metadata": {},
   "source": [
    "Now let's create a spark session !!"
   ]
  },
  {
   "cell_type": "code",
   "execution_count": 2,
   "metadata": {},
   "outputs": [],
   "source": [
    "spark = SparkSession.builder.appName('Classification of USA air line flight experience tweets').getOrCreate()"
   ]
  },
  {
   "cell_type": "markdown",
   "metadata": {},
   "source": [
    "### Read dataset "
   ]
  },
  {
   "cell_type": "code",
   "execution_count": 3,
   "metadata": {},
   "outputs": [],
   "source": [
    "df = spark.read.csv('/Users/ihebd/PycharmProjects/Spark-with-machine-learning-/datasets/Tweets.csv', header=True, inferSchema=True)"
   ]
  },
  {
   "cell_type": "markdown",
   "metadata": {},
   "source": [
    "Before proceeding to any machine learning application we need to explore our dataset, remove any duplicated row and replace empty cells, N/A with a value."
   ]
  },
  {
   "cell_type": "code",
   "execution_count": 5,
   "metadata": {},
   "outputs": [
    {
     "data": {
      "text/plain": [
       "[Row(tweet_id='570306133677760513', airline_sentiment='neutral', airline_sentiment_confidence='1.0', negativereason=None, negativereason_confidence=None, airline='Virgin America', airline_sentiment_gold=None, name='cairdin', negativereason_gold=None, retweet_count=0, text='@VirginAmerica What @dhepburn said.', tweet_coord=None, tweet_created='2015-02-24 11:35:52 -0800', tweet_location=None, user_timezone='Eastern Time (US & Canada)'),\n",
       " Row(tweet_id='570301130888122368', airline_sentiment='positive', airline_sentiment_confidence='0.3486', negativereason=None, negativereason_confidence='0.0', airline='Virgin America', airline_sentiment_gold=None, name='jnardino', negativereason_gold=None, retweet_count=0, text=\"@VirginAmerica plus you've added commercials to the experience... tacky.\", tweet_coord=None, tweet_created='2015-02-24 11:15:59 -0800', tweet_location=None, user_timezone='Pacific Time (US & Canada)'),\n",
       " Row(tweet_id='570301083672813571', airline_sentiment='neutral', airline_sentiment_confidence='0.6837', negativereason=None, negativereason_confidence=None, airline='Virgin America', airline_sentiment_gold=None, name='yvonnalynn', negativereason_gold=None, retweet_count=0, text=\"@VirginAmerica I didn't today... Must mean I need to take another trip!\", tweet_coord=None, tweet_created='2015-02-24 11:15:48 -0800', tweet_location='Lets Play', user_timezone='Central Time (US & Canada)'),\n",
       " Row(tweet_id='570301031407624196', airline_sentiment='negative', airline_sentiment_confidence='1.0', negativereason='Bad Flight', negativereason_confidence='0.7033', airline='Virgin America', airline_sentiment_gold=None, name='jnardino', negativereason_gold=None, retweet_count=0, text='\"@VirginAmerica it\\'s really aggressive to blast obnoxious \"\"entertainment\"\" in your guests\\' faces &amp; they have little recourse\"', tweet_coord=None, tweet_created='2015-02-24 11:15:36 -0800', tweet_location=None, user_timezone='Pacific Time (US & Canada)'),\n",
       " Row(tweet_id='570300817074462722', airline_sentiment='negative', airline_sentiment_confidence='1.0', negativereason=\"Can't Tell\", negativereason_confidence='1.0', airline='Virgin America', airline_sentiment_gold=None, name='jnardino', negativereason_gold=None, retweet_count=0, text=\"@VirginAmerica and it's a really big bad thing about it\", tweet_coord=None, tweet_created='2015-02-24 11:14:45 -0800', tweet_location=None, user_timezone='Pacific Time (US & Canada)')]"
      ]
     },
     "execution_count": 5,
     "metadata": {},
     "output_type": "execute_result"
    }
   ],
   "source": [
    "df.head(5)"
   ]
  },
  {
   "cell_type": "code",
   "execution_count": 6,
   "metadata": {},
   "outputs": [
    {
     "name": "stdout",
     "output_type": "stream",
     "text": [
      "root\n",
      " |-- tweet_id: string (nullable = true)\n",
      " |-- airline_sentiment: string (nullable = true)\n",
      " |-- airline_sentiment_confidence: string (nullable = true)\n",
      " |-- negativereason: string (nullable = true)\n",
      " |-- negativereason_confidence: string (nullable = true)\n",
      " |-- airline: string (nullable = true)\n",
      " |-- airline_sentiment_gold: string (nullable = true)\n",
      " |-- name: string (nullable = true)\n",
      " |-- negativereason_gold: string (nullable = true)\n",
      " |-- retweet_count: integer (nullable = true)\n",
      " |-- text: string (nullable = true)\n",
      " |-- tweet_coord: string (nullable = true)\n",
      " |-- tweet_created: string (nullable = true)\n",
      " |-- tweet_location: string (nullable = true)\n",
      " |-- user_timezone: string (nullable = true)\n",
      "\n"
     ]
    }
   ],
   "source": [
    "df.printSchema()"
   ]
  },
  {
   "cell_type": "markdown",
   "metadata": {},
   "source": [
    "### Dealing with categorical variable "
   ]
  },
  {
   "cell_type": "markdown",
   "metadata": {},
   "source": [
    "Before we can move forward to need to deal with our categorical variables within our dataset."
   ]
  },
  {
   "cell_type": "code",
   "execution_count": 17,
   "metadata": {},
   "outputs": [
    {
     "name": "stdout",
     "output_type": "stream",
     "text": [
      "+--------------------+-----+\n",
      "|   airline_sentiment|count|\n",
      "+--------------------+-----+\n",
      "|[35.23185283, -80...|    1|\n",
      "|   ubetter do smth!\"|    1|\n",
      "|            positive| 2363|\n",
      "| we had a good ru...|    1|\n",
      "| never submits. F...|    1|\n",
      "|[40.7740308, -73....|    1|\n",
      "|                   0|    8|\n",
      "|     please????????\"|    1|\n",
      "|                null|  155|\n",
      "| this is where Ce...|    1|\n",
      "| flight AA1469 2/...|    1|\n",
      "|[51.44284934, -0....|    1|\n",
      "| or just days tha...|    1|\n",
      "|[40.65062011, -73...|    1|\n",
      "|             neutral| 3099|\n",
      "| this is where Ce...|    2|\n",
      "|            negative| 9178|\n",
      "| and I might choo...|    1|\n",
      "|            Virginia|    1|\n",
      "|          [0.0, 0.0]|    1|\n",
      "+--------------------+-----+\n",
      "only showing top 20 rows\n",
      "\n"
     ]
    }
   ],
   "source": [
    "df.groupBy('airline_sentiment').count().show()"
   ]
  },
  {
   "cell_type": "code",
   "execution_count": 27,
   "metadata": {},
   "outputs": [
    {
     "name": "stdout",
     "output_type": "stream",
     "text": [
      "+--------------------+-----+\n",
      "|      negativereason|count|\n",
      "+--------------------+-----+\n",
      "|2015-02-21 14:57:...|    1|\n",
      "|        Florida, USA|    2|\n",
      "|   Dallas Fort Worth|    1|\n",
      "|Toronto (formerly...|    1|\n",
      "|ÜT: 42.798909,-71...|    1|\n",
      "|        Lost Luggage|  724|\n",
      "|Blue Ridge High S...|    2|\n",
      "|      New York City |    1|\n",
      "|           longlines|  178|\n",
      "|  bonkers in Yonkers|    1|\n",
      "|        Columbus, OH|    1|\n",
      "|         Late Flight| 1665|\n",
      "|     Pocos de Caldas|    1|\n",
      "| rented van drove...|    1|\n",
      "|         Los Angeles|    1|\n",
      "|2015-02-20 08:53:...|    1|\n",
      "|freyabevanfund@ho...|    2|\n",
      "|ÜT: 34.078171,-11...|    1|\n",
      "|      Louisville, KY|    1|\n",
      "|              ottawa|    1|\n",
      "+--------------------+-----+\n",
      "only showing top 20 rows\n",
      "\n"
     ]
    }
   ],
   "source": [
    "df.groupBy('negativereason').count().show()"
   ]
  },
  {
   "cell_type": "markdown",
   "metadata": {},
   "source": [
    "### Dealing with missing/null values"
   ]
  },
  {
   "cell_type": "markdown",
   "metadata": {},
   "source": [
    "count missing values in my dataset "
   ]
  },
  {
   "cell_type": "code",
   "execution_count": 9,
   "metadata": {},
   "outputs": [
    {
     "name": "stdout",
     "output_type": "stream",
     "text": [
      "+--------+-----------------+----------------------------+--------------+-------------------------+-------+----------------------+----+-------------------+-------------+----+-----------+-------------+--------------+-------------+\n",
      "|tweet_id|airline_sentiment|airline_sentiment_confidence|negativereason|negativereason_confidence|airline|airline_sentiment_gold|name|negativereason_gold|retweet_count|text|tweet_coord|tweet_created|tweet_location|user_timezone|\n",
      "+--------+-----------------+----------------------------+--------------+-------------------------+-------+----------------------+----+-------------------+-------------+----+-----------+-------------+--------------+-------------+\n",
      "|       0|                0|                           0|             0|                        0|      0|                     0|   0|                  0|            0|   0|          0|            0|             0|            0|\n",
      "+--------+-----------------+----------------------------+--------------+-------------------------+-------+----------------------+----+-------------------+-------------+----+-----------+-------------+--------------+-------------+\n",
      "\n"
     ]
    }
   ],
   "source": [
    "from pyspark.sql.functions import isnan, when, count, col\n",
    "\n",
    "df.select([count(when(isnan(c), c)).alias(c) for c in df.columns]).show()\n"
   ]
  },
  {
   "cell_type": "markdown",
   "metadata": {},
   "source": [
    "count null values in my dataset"
   ]
  },
  {
   "cell_type": "code",
   "execution_count": 14,
   "metadata": {},
   "outputs": [
    {
     "name": "stdout",
     "output_type": "stream",
     "text": [
      "+--------+-----------------+----------------------------+--------------+-------------------------+-------+----------------------+----+-------------------+-------------+----+-----------+-------------+--------------+-------------+\n",
      "|tweet_id|airline_sentiment|airline_sentiment_confidence|negativereason|negativereason_confidence|airline|airline_sentiment_gold|name|negativereason_gold|retweet_count|text|tweet_coord|tweet_created|tweet_location|user_timezone|\n",
      "+--------+-----------------+----------------------------+--------------+-------------------------+-------+----------------------+----+-------------------+-------------+----+-----------+-------------+--------------+-------------+\n",
      "|       0|              155|                          68|          5573|                     4229|    179|                 14788| 196|              14805|          205| 205|      13768|          389|          5010|         5103|\n",
      "+--------+-----------------+----------------------------+--------------+-------------------------+-------+----------------------+----+-------------------+-------------+----+-----------+-------------+--------------+-------------+\n",
      "\n"
     ]
    }
   ],
   "source": [
    "from pyspark.sql.functions import isnan, when, count, col\n",
    "df.select([count(when(col(c).isNull(), c)).alias(c) for c in df.columns]).show()"
   ]
  },
  {
   "cell_type": "code",
   "execution_count": 15,
   "metadata": {},
   "outputs": [
    {
     "name": "stdout",
     "output_type": "stream",
     "text": [
      "+----------------------+\n",
      "|airline_sentiment_gold|\n",
      "+----------------------+\n",
      "|                  null|\n",
      "|                  null|\n",
      "|                  null|\n",
      "|                  null|\n",
      "|                  null|\n",
      "|                  null|\n",
      "|                  null|\n",
      "|                  null|\n",
      "|                  null|\n",
      "|                  null|\n",
      "|                  null|\n",
      "|                  null|\n",
      "|                  null|\n",
      "|                  null|\n",
      "|                  null|\n",
      "|                  null|\n",
      "|                  null|\n",
      "|                  null|\n",
      "|                  null|\n",
      "|                  null|\n",
      "+----------------------+\n",
      "only showing top 20 rows\n",
      "\n"
     ]
    }
   ],
   "source": [
    "df.select('airline_sentiment_gold').show()"
   ]
  },
  {
   "cell_type": "markdown",
   "metadata": {},
   "source": [
    "### Deal"
   ]
  },
  {
   "cell_type": "markdown",
   "metadata": {},
   "source": [
    "we can notice that this column is empty, Therefor we will drop it "
   ]
  },
  {
   "cell_type": "code",
   "execution_count": 23,
   "metadata": {},
   "outputs": [],
   "source": [
    "#df = df.drop('airline_sentiment_gold')\n",
    "#df = df.drop('negativereason_gold')"
   ]
  },
  {
   "cell_type": "code",
   "execution_count": 25,
   "metadata": {},
   "outputs": [
    {
     "name": "stdout",
     "output_type": "stream",
     "text": [
      "root\n",
      " |-- tweet_id: string (nullable = true)\n",
      " |-- airline_sentiment: string (nullable = true)\n",
      " |-- airline_sentiment_confidence: string (nullable = true)\n",
      " |-- negativereason: string (nullable = true)\n",
      " |-- negativereason_confidence: string (nullable = true)\n",
      " |-- airline: string (nullable = true)\n",
      " |-- name: string (nullable = true)\n",
      " |-- retweet_count: integer (nullable = true)\n",
      " |-- text: string (nullable = true)\n",
      " |-- tweet_coord: string (nullable = true)\n",
      " |-- tweet_created: string (nullable = true)\n",
      " |-- tweet_location: string (nullable = true)\n",
      " |-- user_timezone: string (nullable = true)\n",
      "\n"
     ]
    }
   ],
   "source": [
    "#df.printSchema()"
   ]
  },
  {
   "cell_type": "code",
   "execution_count": 27,
   "metadata": {},
   "outputs": [
    {
     "name": "stdout",
     "output_type": "stream",
     "text": [
      "+--------+-----------------+----------------------------+--------------+-------------------------+-------+----+-------------+----+-----------+-------------+--------------+-------------+\n",
      "|tweet_id|airline_sentiment|airline_sentiment_confidence|negativereason|negativereason_confidence|airline|name|retweet_count|text|tweet_coord|tweet_created|tweet_location|user_timezone|\n",
      "+--------+-----------------+----------------------------+--------------+-------------------------+-------+----+-------------+----+-----------+-------------+--------------+-------------+\n",
      "|       0|              155|                          68|          5573|                     4229|    179| 196|          205| 205|      13768|          389|          5010|         5103|\n",
      "+--------+-----------------+----------------------------+--------------+-------------------------+-------+----+-------------+----+-----------+-------------+--------------+-------------+\n",
      "\n"
     ]
    }
   ],
   "source": [
    "#df.select([count(when(col(c).isNull(), c)).alias(c) for c in df.columns]).show()"
   ]
  },
  {
   "cell_type": "code",
   "execution_count": null,
   "metadata": {},
   "outputs": [],
   "source": []
  }
 ],
 "metadata": {
  "kernelspec": {
   "display_name": "Python 3",
   "language": "python",
   "name": "python3"
  },
  "language_info": {
   "codemirror_mode": {
    "name": "ipython",
    "version": 3
   },
   "file_extension": ".py",
   "mimetype": "text/x-python",
   "name": "python",
   "nbconvert_exporter": "python",
   "pygments_lexer": "ipython3",
   "version": "3.8.3"
  }
 },
 "nbformat": 4,
 "nbformat_minor": 4
}
