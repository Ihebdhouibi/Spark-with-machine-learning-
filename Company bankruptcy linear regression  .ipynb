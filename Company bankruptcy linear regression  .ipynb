{
 "cells": [
  {
   "cell_type": "markdown",
   "metadata": {},
   "source": [
    "## Apply linear regression to predict company bankruptcy \n",
    "\n",
    "### Dataset : \n",
    "The data were collected from the Taiwan Economic Journal for the years 1999 to 2009. Company bankruptcy was defined based on the business regulations of the Taiwan Stock Exchange.\n",
    "\n",
    "Dataset : https://www.kaggle.com/fedesoriano/company-bankruptcy-prediction\n",
    "\n"
   ]
  },
  {
   "cell_type": "code",
   "execution_count": 1,
   "metadata": {},
   "outputs": [],
   "source": [
    "import findspark\n",
    "findspark.init()\n",
    "\n",
    "from pyspark.sql import SparkSession\n",
    "from pyspark.ml.regression import LinearRegression\n",
    "from pyspark.sql.functions import isnan, when, col, count"
   ]
  },
  {
   "cell_type": "markdown",
   "metadata": {},
   "source": [
    "#### Create a spark session "
   ]
  },
  {
   "cell_type": "code",
   "execution_count": 2,
   "metadata": {},
   "outputs": [],
   "source": [
    "spark = SparkSession.builder.appName('Company bankruptcy prediction').getOrCreate()"
   ]
  },
  {
   "cell_type": "markdown",
   "metadata": {},
   "source": [
    "#### Load the dataset "
   ]
  },
  {
   "cell_type": "code",
   "execution_count": 3,
   "metadata": {},
   "outputs": [],
   "source": [
    "df = spark.read.csv('/Users/ihebd/PycharmProjects/Spark-with-machine-learning-/datasets/company bankruptcy.csv', \n",
    "                   inferSchema= True, header= True)"
   ]
  },
  {
   "cell_type": "markdown",
   "metadata": {},
   "source": [
    "Let's explore our dataset "
   ]
  },
  {
   "cell_type": "code",
   "execution_count": 4,
   "metadata": {},
   "outputs": [
    {
     "name": "stdout",
     "output_type": "stream",
     "text": [
      "root\n",
      " |-- Bankrupt?: integer (nullable = true)\n",
      " |--  ROA(C) before interest and depreciation before interest: double (nullable = true)\n",
      " |--  ROA(A) before interest and % after tax: double (nullable = true)\n",
      " |--  ROA(B) before interest and depreciation after tax: double (nullable = true)\n",
      " |--  operating gross margin: double (nullable = true)\n",
      " |--  realized sales gross margin: double (nullable = true)\n",
      " |--  operating profit rate: double (nullable = true)\n",
      " |--  tax Pre-net interest rate: double (nullable = true)\n",
      " |--  after-tax net interest rate: double (nullable = true)\n",
      " |--  non-industry income and expenditure/revenue: double (nullable = true)\n",
      " |--  continuous interest rate (after tax): double (nullable = true)\n",
      " |--  operating expense rate: double (nullable = true)\n",
      " |--  research and development expense rate: double (nullable = true)\n",
      " |--  cash flow rate: double (nullable = true)\n",
      " |--  interest-bearing debt interest rate: double (nullable = true)\n",
      " |--  tax rate (A): double (nullable = true)\n",
      " |--  per Net Share Value (B): double (nullable = true)\n",
      " |--  Net Value Per Share (A): double (nullable = true)\n",
      " |--  Net Value Per Share (C): double (nullable = true)\n",
      " |--  Persistent EPS in the Last Four Seasons: double (nullable = true)\n",
      " |--  Cash Flow Per Share: double (nullable = true)\n",
      " |--  Revenue Per Share (Yuan): double (nullable = true)\n",
      " |--  Operating Profit Per Share (Yuan): double (nullable = true)\n",
      " |--  Per Share Net profit before tax (yuan): double (nullable = true)\n",
      " |--  realized sales gross profit growth rate: double (nullable = true)\n",
      " |--  operating profit growth rate: double (nullable = true)\n",
      " |--  after-tax net profit growth rate: double (nullable = true)\n",
      " |--  regular net profit growth rate: double (nullable = true)\n",
      " |--  continuous net profit growth rate: double (nullable = true)\n",
      " |--  total asset growth rate: double (nullable = true)\n",
      " |--  net value growth rate: double (nullable = true)\n",
      " |--  total asset return growth rate Ratio: double (nullable = true)\n",
      " |--  cash reinvestment %: double (nullable = true)\n",
      " |--  current ratio: double (nullable = true)\n",
      " |--  quick ratio: double (nullable = true)\n",
      " |--  interest expense ratio: double (nullable = true)\n",
      " |--  total debt/total net worth: double (nullable = true)\n",
      " |--  debt ratio %: double (nullable = true)\n",
      " |--  net worth/assets: double (nullable = true)\n",
      " |--  long-term fund suitability ratio (A): double (nullable = true)\n",
      " |--  borrowing dependency: double (nullable = true)\n",
      " |--  contingent liabilities/net worth: double (nullable = true)\n",
      " |--  Operating profit/paid-in capital: double (nullable = true)\n",
      " |--  net profit before tax/paid-in capital: double (nullable = true)\n",
      " |--  inventory and accounts receivable/net value: double (nullable = true)\n",
      " |--  total asset turnover: double (nullable = true)\n",
      " |--  accounts receivable turnover: double (nullable = true)\n",
      " |--  average collection days: double (nullable = true)\n",
      " |--  inventory turnover rate (times): double (nullable = true)\n",
      " |--  fixed assets Turnover frequency: double (nullable = true)\n",
      " |--  net worth turnover rate (times): double (nullable = true)\n",
      " |--  revenue per person: double (nullable = true)\n",
      " |--  operating profit per person: double (nullable = true)\n",
      " |--  allocation rate per person: double (nullable = true)\n",
      " |--  working capital to total assets: double (nullable = true)\n",
      " |-- Quick asset/Total asset: double (nullable = true)\n",
      " |-- current assets/total assets: double (nullable = true)\n",
      " |-- cash / total assets: double (nullable = true)\n",
      " |-- Quick asset /current liabilities: double (nullable = true)\n",
      " |-- cash / current liability: double (nullable = true)\n",
      " |-- current liability to assets: double (nullable = true)\n",
      " |-- operating funds to liability: double (nullable = true)\n",
      " |-- Inventory/working capital: double (nullable = true)\n",
      " |-- Inventory/current liability: double (nullable = true)\n",
      " |-- current liability / liability: double (nullable = true)\n",
      " |-- working capital/equity: double (nullable = true)\n",
      " |-- current liability/equity: double (nullable = true)\n",
      " |-- long-term liability to current assets: double (nullable = true)\n",
      " |-- Retained Earnings/Total assets: double (nullable = true)\n",
      " |-- total income / total expense: double (nullable = true)\n",
      " |-- total expense /assets: double (nullable = true)\n",
      " |--  current asset turnover rate: double (nullable = true)\n",
      " |--  quick asset turnover rate: double (nullable = true)\n",
      " |--  working capitcal turnover rate: double (nullable = true)\n",
      " |--  cash turnover rate: double (nullable = true)\n",
      " |--  Cash flow to Sales: double (nullable = true)\n",
      " |--  fix assets to assets: double (nullable = true)\n",
      " |--  current liability to liability: double (nullable = true)\n",
      " |-- current liability to equity: double (nullable = true)\n",
      " |-- equity to long-term liability: double (nullable = true)\n",
      " |-- Cash flow to total assets: double (nullable = true)\n",
      " |-- cash flow to liability: double (nullable = true)\n",
      " |-- CFO to ASSETS: double (nullable = true)\n",
      " |-- cash flow to equity: double (nullable = true)\n",
      " |-- current liabilities to current assets: double (nullable = true)\n",
      " |-- one if total liabilities exceeds total assets zero otherwise: integer (nullable = true)\n",
      " |-- net income to total assets: double (nullable = true)\n",
      " |-- total assets to GNP price: double (nullable = true)\n",
      " |-- No-credit interval: double (nullable = true)\n",
      " |-- Gross profit to Sales: double (nullable = true)\n",
      " |-- Net income to stockholder's Equity: double (nullable = true)\n",
      " |-- liability to equity: double (nullable = true)\n",
      " |-- Degree of financial leverage (DFL): double (nullable = true)\n",
      " |-- Interest coverage ratio( Interest expense to EBIT ): double (nullable = true)\n",
      " |-- one if net income was negative for the last two year zero otherwise: integer (nullable = true)\n",
      " |-- equity to liability: double (nullable = true)\n",
      "\n"
     ]
    }
   ],
   "source": [
    "df.printSchema()"
   ]
  },
  {
   "cell_type": "code",
   "execution_count": 5,
   "metadata": {},
   "outputs": [
    {
     "data": {
      "text/plain": [
       "[Row(Bankrupt?=1,  ROA(C) before interest and depreciation before interest=0.370594257300249,  ROA(A) before interest and % after tax=0.424389446140427,  ROA(B) before interest and depreciation after tax=0.40574977247176,  operating gross margin=0.601457213277793,  realized sales gross margin=0.601457213277793,  operating profit rate=0.998969203197885,  tax Pre-net interest rate=0.796887145860514,  after-tax net interest rate=0.808809360876843,  non-industry income and expenditure/revenue=0.302646433889668,  continuous interest rate (after tax)=0.780984850207341,  operating expense rate=0.000125696868875964,  research and development expense rate=0.0,  cash flow rate=0.458143143520965,  interest-bearing debt interest rate=0.000725072507250725,  tax rate (A)=0.0,  per Net Share Value (B)=0.147949938898487,  Net Value Per Share (A)=0.147949938898487,  Net Value Per Share (C)=0.147949938898487,  Persistent EPS in the Last Four Seasons=0.16914058806845,  Cash Flow Per Share=0.311664426681757,  Revenue Per Share (Yuan)=0.0175597803893099,  Operating Profit Per Share (Yuan)=0.0959205276443286,  Per Share Net profit before tax (yuan)=0.138736160277171,  realized sales gross profit growth rate=0.0221022783580128,  operating profit growth rate=0.848194994526472,  after-tax net profit growth rate=0.688979462807371,  regular net profit growth rate=0.688979462807371,  continuous net profit growth rate=0.217535386199635,  total asset growth rate=4980000000.0,  net value growth rate=0.000326977269203033,  total asset return growth rate Ratio=0.263099983681843,  cash reinvestment %=0.363725271040572,  current ratio=0.00225896331056689,  quick ratio=0.00120775508523532,  interest expense ratio=0.629951302036958,  total debt/total net worth=0.0212659243655332,  debt ratio %=0.207576261450555,  net worth/assets=0.792423738549445,  long-term fund suitability ratio (A)=0.00502445472861451,  borrowing dependency=0.390284354359258,  contingent liabilities/net worth=0.00647850248610705,  Operating profit/paid-in capital=0.0958848339765825,  net profit before tax/paid-in capital=0.137757333534424,  inventory and accounts receivable/net value=0.398035698256887,  total asset turnover=0.0869565217391304,  accounts receivable turnover=0.00181388412648494,  average collection days=0.0034873642818412,  inventory turnover rate (times)=0.000182092597429571,  fixed assets Turnover frequency=0.000116500653235806,  net worth turnover rate (times)=0.0329032258064516,  revenue per person=0.0341641819543792,  operating profit per person=0.392912869451166,  allocation rate per person=0.0371353015800987,  working capital to total assets=0.67277529248986, Quick asset/Total asset=0.166672958825266, current assets/total assets=0.190642959052727, cash / total assets=0.00409440595228806, Quick asset /current liabilities=0.00199677086064508, cash / current liability=0.00014733602476056, current liability to assets=0.147308450425486, operating funds to liability=0.334015171333379, Inventory/working capital=0.276920158240506, Inventory/current liability=0.00103598999165807, current liability / liability=0.676269176153092, working capital/equity=0.721274551521743, current liability/equity=0.339077006789355, long-term liability to current assets=0.02559236799775, Retained Earnings/Total assets=0.903224771166726, total income / total expense=0.00202161301202566, total expense /assets=0.064855707690831,  current asset turnover rate=701000000.0,  quick asset turnover rate=6550000000.0,  working capitcal turnover rate=0.593830503987655,  cash turnover rate=458000000.0,  Cash flow to Sales=0.6715676535815,  fix assets to assets=0.424205762216667,  current liability to liability=0.676269176153092, current liability to equity=0.339077006789355, equity to long-term liability=0.126549487816618, Cash flow to total assets=0.637555395323871, cash flow to liability=0.458609147666847, CFO to ASSETS=0.52038191789012, cash flow to equity=0.312904948119326, current liabilities to current assets=0.11825047660899, one if total liabilities exceeds total assets zero otherwise=0, net income to total assets=0.716845343217827, total assets to GNP price=0.00921944002110296, No-credit interval=0.622878959445127, Gross profit to Sales=0.601453290101533, Net income to stockholder's Equity=0.82789021403512, liability to equity=0.29020189277926, Degree of financial leverage (DFL)=0.0266006307607414, Interest coverage ratio( Interest expense to EBIT )=0.564050112276341, one if net income was negative for the last two year zero otherwise=1, equity to liability=0.0164687409123162),\n",
       " Row(Bankrupt?=1,  ROA(C) before interest and depreciation before interest=0.464290937454297,  ROA(A) before interest and % after tax=0.53821412996075,  ROA(B) before interest and depreciation after tax=0.516730017666899,  operating gross margin=0.610235085544617,  realized sales gross margin=0.610235085544617,  operating profit rate=0.998945978205482,  tax Pre-net interest rate=0.797380191277827,  after-tax net interest rate=0.809300725667939,  non-industry income and expenditure/revenue=0.303556430290771,  continuous interest rate (after tax)=0.781505974330882,  operating expense rate=0.000289785053728762,  research and development expense rate=0.0,  cash flow rate=0.461867257156757,  interest-bearing debt interest rate=0.000647064706470647,  tax rate (A)=0.0,  per Net Share Value (B)=0.182251064009102,  Net Value Per Share (A)=0.182251064009102,  Net Value Per Share (C)=0.182251064009102,  Persistent EPS in the Last Four Seasons=0.2089439349532,  Cash Flow Per Share=0.318136804131004,  Revenue Per Share (Yuan)=0.0211443350424248,  Operating Profit Per Share (Yuan)=0.0937220096083381,  Per Share Net profit before tax (yuan)=0.16991790314077,  realized sales gross profit growth rate=0.0220801698690499,  operating profit growth rate=0.848087883815147,  after-tax net profit growth rate=0.689692901209989,  regular net profit growth rate=0.689701701610895,  continuous net profit growth rate=0.217619596450422,  total asset growth rate=6110000000.0,  net value growth rate=0.0004430401005442,  total asset return growth rate Ratio=0.264515778104141,  cash reinvestment %=0.376709139003763,  current ratio=0.00601620587767277,  quick ratio=0.00403936682691048,  interest expense ratio=0.635172463390912,  total debt/total net worth=0.0125023937843679,  debt ratio %=0.171176346101521,  net worth/assets=0.828823653898479,  long-term fund suitability ratio (A)=0.00505888175404082,  borrowing dependency=0.376760019951553,  contingent liabilities/net worth=0.0058350394852296,  Operating profit/paid-in capital=0.0937433843047209,  net profit before tax/paid-in capital=0.168961616770983,  inventory and accounts receivable/net value=0.397724882539793,  total asset turnover=0.0644677661169415,  accounts receivable turnover=0.00128635630446471,  average collection days=0.00491680791744408,  inventory turnover rate (times)=9360000000.0,  fixed assets Turnover frequency=719000000.0,  net worth turnover rate (times)=0.0254838709677419,  revenue per person=0.00688865061762848,  operating profit per person=0.39158996856697,  allocation rate per person=0.0123349721287826,  working capital to total assets=0.751110917003808, Quick asset/Total asset=0.127236002293688, current assets/total assets=0.182419054120616, cash / total assets=0.0149477269714099, Quick asset /current liabilities=0.00413602976079905, cash / current liability=0.00138391008146992, current liability to assets=0.0569628274180797, operating funds to liability=0.341105991992958, Inventory/working capital=0.28964157642601, Inventory/current liability=0.00520968239954949, current liability / liability=0.30858859304371, working capital/equity=0.731975288512351, current liability/equity=0.329740147869877, long-term liability to current assets=0.0239468186673397, Retained Earnings/Total assets=0.931065217577487, total income / total expense=0.00222560834310179, total expense /assets=0.0255158599950638,  current asset turnover rate=0.000106519762790299,  quick asset turnover rate=7700000000.0,  working capitcal turnover rate=0.59391554785427,  cash turnover rate=2490000000.0,  Cash flow to Sales=0.671569942261066,  fix assets to assets=0.468828128338473,  current liability to liability=0.30858859304371, current liability to equity=0.329740147869877, equity to long-term liability=0.120916105834965, Cash flow to total assets=0.64109998470196, cash flow to liability=0.459001053294128, CFO to ASSETS=0.567101308703163, cash flow to equity=0.314163135184666, current liabilities to current assets=0.0477752815903248, one if total liabilities exceeds total assets zero otherwise=0, net income to total assets=0.795297136043035, total assets to GNP price=0.00832330179481035, No-credit interval=0.623651741728055, Gross profit to Sales=0.610236525929872, Net income to stockholder's Equity=0.839969268005573, liability to equity=0.283845979801729, Degree of financial leverage (DFL)=0.264576819837375, Interest coverage ratio( Interest expense to EBIT )=0.570174946412453, one if net income was negative for the last two year zero otherwise=1, equity to liability=0.020794306334635),\n",
       " Row(Bankrupt?=1,  ROA(C) before interest and depreciation before interest=0.426071271876371,  ROA(A) before interest and % after tax=0.499018752725687,  ROA(B) before interest and depreciation after tax=0.472295090743616,  operating gross margin=0.601450006486113,  realized sales gross margin=0.601363524985947,  operating profit rate=0.998857353483229,  tax Pre-net interest rate=0.796403369254357,  after-tax net interest rate=0.808387521469543,  non-industry income and expenditure/revenue=0.302035177342951,  continuous interest rate (after tax)=0.780283936155909,  operating expense rate=0.000236129720556318,  research and development expense rate=25500000.0,  cash flow rate=0.458520587470538,  interest-bearing debt interest rate=0.00079007900790079,  tax rate (A)=0.0,  per Net Share Value (B)=0.177910749652353,  Net Value Per Share (A)=0.177910749652353,  Net Value Per Share (C)=0.193712865028865,  Persistent EPS in the Last Four Seasons=0.180580504869056,  Cash Flow Per Share=0.30710193110278,  Revenue Per Share (Yuan)=0.00594400834883616,  Operating Profit Per Share (Yuan)=0.0923377575116033,  Per Share Net profit before tax (yuan)=0.142803344128945,  realized sales gross profit growth rate=0.0227600967722855,  operating profit growth rate=0.84809401283004,  after-tax net profit growth rate=0.689462676951537,  regular net profit growth rate=0.689469659564714,  continuous net profit growth rate=0.217601298963609,  total asset growth rate=7280000000.0,  net value growth rate=0.000396425314703456,  total asset return growth rate Ratio=0.264183975569387,  cash reinvestment %=0.368913229760441,  current ratio=0.0115425536893801,  quick ratio=0.00534756022243655,  interest expense ratio=0.629631443404885,  total debt/total net worth=0.0212476860084444,  debt ratio %=0.207515796474892,  net worth/assets=0.792484203525108,  long-term fund suitability ratio (A)=0.00509989941357539,  borrowing dependency=0.379092920106557,  contingent liabilities/net worth=0.00656198206103149,  Operating profit/paid-in capital=0.0923184653215431,  net profit before tax/paid-in capital=0.148035593092527,  inventory and accounts receivable/net value=0.406580451031118,  total asset turnover=0.0149925037481259,  accounts receivable turnover=0.00149533848011119,  average collection days=0.00422684946011605,  inventory turnover rate (times)=65000000.0,  fixed assets Turnover frequency=2650000000.0,  net worth turnover rate (times)=0.0133870967741935,  revenue per person=0.0289969595934374,  operating profit per person=0.381967843332353,  allocation rate per person=0.141016311871331,  working capital to total assets=0.829501914934622, Quick asset/Total asset=0.340200878481779, current assets/total assets=0.602805701668708, cash / total assets=0.000990944451124824, Quick asset /current liabilities=0.00630248138254708, cash / current liability=5340000000.0, current liability to assets=0.0981620645437837, operating funds to liability=0.33673149472, Inventory/working capital=0.277455528130626, Inventory/current liability=0.0138787857963224, current liability / liability=0.446027487157575, working capital/equity=0.742728637603645, current liability/equity=0.334776851319847, long-term liability to current assets=0.00371511569336923, Retained Earnings/Total assets=0.90990336247412, total income / total expense=0.00206007064952466, total expense /assets=0.0213874282332057,  current asset turnover rate=0.00179109370019098,  quick asset turnover rate=0.00102267647190207,  working capitcal turnover rate=0.594501851296042,  cash turnover rate=761000000.0,  Cash flow to Sales=0.671571321761166,  fix assets to assets=0.276179222234543,  current liability to liability=0.446027487157575, current liability to equity=0.334776851319847, equity to long-term liability=0.117922319423666, Cash flow to total assets=0.642764550242219, cash flow to liability=0.459254035544147, CFO to ASSETS=0.538490539586983, cash flow to equity=0.31451542627367, current liabilities to current assets=0.0253464891288078, one if total liabilities exceeds total assets zero otherwise=0, net income to total assets=0.774669696989803, total assets to GNP price=0.0400028528527523, No-credit interval=0.623841037589316, Gross profit to Sales=0.601449340486212, Net income to stockholder's Equity=0.836774308550174, liability to equity=0.290188532942043, Degree of financial leverage (DFL)=0.0265547199199004, Interest coverage ratio( Interest expense to EBIT )=0.563706076496047, one if net income was negative for the last two year zero otherwise=1, equity to liability=0.0164741143272785),\n",
       " Row(Bankrupt?=1,  ROA(C) before interest and depreciation before interest=0.399844001364988,  ROA(A) before interest and % after tax=0.451264718709115,  ROA(B) before interest and depreciation after tax=0.457733283366347,  operating gross margin=0.583541129160121,  realized sales gross margin=0.583541129160121,  operating profit rate=0.998699747067122,  tax Pre-net interest rate=0.796966968308828,  after-tax net interest rate=0.808965597694361,  non-industry income and expenditure/revenue=0.303349536022685,  continuous interest rate (after tax)=0.781240991205311,  operating expense rate=0.00010788884881442,  research and development expense rate=0.0,  cash flow rate=0.465705442741753,  interest-bearing debt interest rate=0.000449044904490449,  tax rate (A)=0.0,  per Net Share Value (B)=0.154186507100417,  Net Value Per Share (A)=0.154186507100417,  Net Value Per Share (C)=0.154186507100417,  Persistent EPS in the Last Four Seasons=0.193722227474709,  Cash Flow Per Share=0.321673622409281,  Revenue Per Share (Yuan)=0.0143684680188151,  Operating Profit Per Share (Yuan)=0.0777623971989252,  Per Share Net profit before tax (yuan)=0.148602847028696,  realized sales gross profit growth rate=0.0220460668531945,  operating profit growth rate=0.8480054773865,  after-tax net profit growth rate=0.689109535618137,  regular net profit growth rate=0.689109535618137,  continuous net profit growth rate=0.217568188277463,  total asset growth rate=4880000000.0,  net value growth rate=0.000382425906321948,  total asset return growth rate Ratio=0.263371175917508,  cash reinvestment %=0.384076599232517,  current ratio=0.004194058676884,  quick ratio=0.00289649114708036,  interest expense ratio=0.63022835303626,  total debt/total net worth=0.00957240171805324,  debt ratio %=0.151464764035432,  net worth/assets=0.848535235964567,  long-term fund suitability ratio (A)=0.00504692406346464,  borrowing dependency=0.379742687599394,  contingent liabilities/net worth=0.00536584771375646,  Operating profit/paid-in capital=0.0777272949338023,  net profit before tax/paid-in capital=0.147560515798205,  inventory and accounts receivable/net value=0.397924501254651,  total asset turnover=0.0899550224887556,  accounts receivable turnover=0.00196605561360616,  average collection days=0.00321496731663372,  inventory turnover rate (times)=7130000000.0,  fixed assets Turnover frequency=9150000000.0,  net worth turnover rate (times)=0.0280645161290323,  revenue per person=0.015463478401363,  operating profit per person=0.378496641866986,  allocation rate per person=0.0213199897441037,  working capital to total assets=0.725754179688242, Quick asset/Total asset=0.161574531573533, current assets/total assets=0.225814868882578, cash / total assets=0.0188506248270314, Quick asset /current liabilities=0.00296123765013862, cash / current liability=0.00101064643157612, current liability to assets=0.0987146304496934, operating funds to liability=0.348716438967482, Inventory/working capital=0.276580304232685, Inventory/current liability=0.00354014789619415, current liability / liability=0.615848368585853, working capital/equity=0.729824908743367, current liability/equity=0.33150897867186, long-term liability to current assets=0.0221651997451294, Retained Earnings/Total assets=0.906902158837211, total income / total expense=0.00183135855551016, total expense /assets=0.0241610701740241,  current asset turnover rate=8140000000.0,  quick asset turnover rate=6050000000.0,  working capitcal turnover rate=0.593888792576566,  cash turnover rate=2030000000.0,  Cash flow to Sales=0.671519170200148,  fix assets to assets=0.559143963323496,  current liability to liability=0.615848368585853, current liability to equity=0.33150897867186, equity to long-term liability=0.12076045528683, Cash flow to total assets=0.579039312335715, cash flow to liability=0.448517911623987, CFO to ASSETS=0.604105056187593, cash flow to equity=0.302382254833178, current liabilities to current assets=0.0672496172630687, one if total liabilities exceeds total assets zero otherwise=0, net income to total assets=0.739554525158061, total assets to GNP price=0.00325247529112739, No-credit interval=0.622928709143491, Gross profit to Sales=0.583537612244893, Net income to stockholder's Equity=0.834697106753341, liability to equity=0.281721192981814, Degree of financial leverage (DFL)=0.0266966344214761, Interest coverage ratio( Interest expense to EBIT )=0.564663420271241, one if net income was negative for the last two year zero otherwise=1, equity to liability=0.0239823322073886),\n",
       " Row(Bankrupt?=1,  ROA(C) before interest and depreciation before interest=0.465022181055916,  ROA(A) before interest and % after tax=0.538432184910597,  ROA(B) before interest and depreciation after tax=0.522297767546443,  operating gross margin=0.598783493564335,  realized sales gross margin=0.598783493564335,  operating profit rate=0.998973131803565,  tax Pre-net interest rate=0.797366080550396,  after-tax net interest rate=0.809303720206941,  non-industry income and expenditure/revenue=0.303474977757658,  continuous interest rate (after tax)=0.781550044617657,  operating expense rate=7890000000.0,  research and development expense rate=0.0,  cash flow rate=0.462746282177097,  interest-bearing debt interest rate=0.000686068606860686,  tax rate (A)=0.0,  per Net Share Value (B)=0.167502422991024,  Net Value Per Share (A)=0.167502422991024,  Net Value Per Share (C)=0.167502422991024,  Persistent EPS in the Last Four Seasons=0.212536636097192,  Cash Flow Per Share=0.319162481431704,  Revenue Per Share (Yuan)=0.0296897923378254,  Operating Profit Per Share (Yuan)=0.0968976467714356,  Per Share Net profit before tax (yuan)=0.168411538751224,  realized sales gross profit growth rate=0.0220959097225217,  operating profit growth rate=0.848258202198295,  after-tax net profit growth rate=0.689696883030727,  regular net profit growth rate=0.689696883030727,  continuous net profit growth rate=0.217625639200419,  total asset growth rate=5510000000.0,  net value growth rate=0.000438947581872957,  total asset return growth rate Ratio=0.265218235929474,  cash reinvestment %=0.379689653887709,  current ratio=0.00602244610781246,  quick ratio=0.00372744660861623,  interest expense ratio=0.636054985548143,  total debt/total net worth=0.00514960012402083,  debt ratio %=0.106509054630105,  net worth/assets=0.893490945369894,  long-term fund suitability ratio (A)=0.00530331919628413,  borrowing dependency=0.375025442703033,  contingent liabilities/net worth=0.00662352539728966,  Operating profit/paid-in capital=0.0969270604328497,  net profit before tax/paid-in capital=0.167460975793681,  inventory and accounts receivable/net value=0.400078775707608,  total asset turnover=0.175412293853073,  accounts receivable turnover=0.00144867255739401,  average collection days=0.00436689053313807,  inventory turnover rate (times)=0.000163367440506068,  fixed assets Turnover frequency=0.000293521126334367,  net worth turnover rate (times)=0.0401612903225807,  revenue per person=0.0581114228221436,  operating profit per person=0.39437145247733,  allocation rate per person=0.0239882116504549,  working capital to total assets=0.751822452472965, Quick asset/Total asset=0.260329881066954, current assets/total assets=0.358380159768393, cash / total assets=0.0141609737513009, Quick asset /current liabilities=0.00427477087039252, cash / current liability=0.000680463559654079, current liability to assets=0.110194845896651, operating funds to liability=0.344638753643605, Inventory/working capital=0.287912652687691, Inventory/current liability=0.0048685702885864, current liability / liability=0.975006616109995, working capital/equity=0.731999641010921, current liability/equity=0.33072631939891, long-term liability to current assets=0.0, Retained Earnings/Total assets=0.91385019745186, total income / total expense=0.00222393003478029, total expense /assets=0.0263852456518637,  current asset turnover rate=6680000000.0,  quick asset turnover rate=5050000000.0,  working capitcal turnover rate=0.59391526090563,  cash turnover rate=824000000.0,  Cash flow to Sales=0.67156305250703,  fix assets to assets=0.309554916594047,  current liability to liability=0.975006616109995, current liability to equity=0.33072631939891, equity to long-term liability=0.110933233663468, Cash flow to total assets=0.622374074998875, cash flow to liability=0.454410931919338, CFO to ASSETS=0.578468903211134, cash flow to equity=0.311567160524111, current liabilities to current assets=0.0477253717624306, one if total liabilities exceeds total assets zero otherwise=0, net income to total assets=0.79501587263578, total assets to GNP price=0.00387756309380024, No-credit interval=0.623520697668313, Gross profit to Sales=0.598781509888099, Net income to stockholder's Equity=0.839972745788203, liability to equity=0.278513789880418, Degree of financial leverage (DFL)=0.0247518480523254, Interest coverage ratio( Interest expense to EBIT )=0.575616645216918, one if net income was negative for the last two year zero otherwise=1, equity to liability=0.0354902008836198)]"
      ]
     },
     "execution_count": 5,
     "metadata": {},
     "output_type": "execute_result"
    }
   ],
   "source": [
    "df.take(5)"
   ]
  },
  {
   "cell_type": "code",
   "execution_count": 6,
   "metadata": {},
   "outputs": [
    {
     "data": {
      "text/plain": [
       "6819"
      ]
     },
     "execution_count": 6,
     "metadata": {},
     "output_type": "execute_result"
    }
   ],
   "source": [
    "df.count()"
   ]
  },
  {
   "cell_type": "markdown",
   "metadata": {},
   "source": [
    "#### Data wrangling "
   ]
  },
  {
   "cell_type": "markdown",
   "metadata": {},
   "source": [
    "Checking for Missing/Null values "
   ]
  },
  {
   "cell_type": "code",
   "execution_count": 11,
   "metadata": {},
   "outputs": [
    {
     "name": "stdout",
     "output_type": "stream",
     "text": [
      "+---------+--------------------------------------------------------+---------------------------------------+--------------------------------------------------+-----------------------+----------------------------+----------------------+--------------------------+----------------------------+--------------------------------------------+-------------------------------------+-----------------------+--------------------------------------+---------------+------------------------------------+-------------+------------------------+------------------------+------------------------+----------------------------------------+--------------------+-------------------------+----------------------------------+---------------------------------------+----------------------------------------+-----------------------------+---------------------------------+-------------------------------+----------------------------------+------------------------+----------------------+-------------------------------------+--------------------+--------------+------------+-----------------------+---------------------------+-------------+-----------------+-------------------------------------+---------------------+---------------------------------+---------------------------------+--------------------------------------+--------------------------------------------+---------------------+-----------------------------+------------------------+--------------------------------+--------------------------------+--------------------------------+-------------------+----------------------------+---------------------------+--------------------------------+-----------------------+---------------------------+-------------------+--------------------------------+------------------------+---------------------------+----------------------------+-------------------------+---------------------------+-----------------------------+----------------------+------------------------+-------------------------------------+------------------------------+----------------------------+---------------------+----------------------------+--------------------------+-------------------------------+-------------------+-------------------+---------------------+-------------------------------+---------------------------+-----------------------------+-------------------------+----------------------+-------------+-------------------+-------------------------------------+------------------------------------------------------------+--------------------------+-------------------------+------------------+---------------------+----------------------------------+-------------------+----------------------------------+---------------------------------------------------+-------------------------------------------------------------------+-------------------+\n",
      "|Bankrupt?| ROA(C) before interest and depreciation before interest| ROA(A) before interest and % after tax| ROA(B) before interest and depreciation after tax| operating gross margin| realized sales gross margin| operating profit rate| tax Pre-net interest rate| after-tax net interest rate| non-industry income and expenditure/revenue| continuous interest rate (after tax)| operating expense rate| research and development expense rate| cash flow rate| interest-bearing debt interest rate| tax rate (A)| per Net Share Value (B)| Net Value Per Share (A)| Net Value Per Share (C)| Persistent EPS in the Last Four Seasons| Cash Flow Per Share| Revenue Per Share (Yuan)| Operating Profit Per Share (Yuan)| Per Share Net profit before tax (yuan)| realized sales gross profit growth rate| operating profit growth rate| after-tax net profit growth rate| regular net profit growth rate| continuous net profit growth rate| total asset growth rate| net value growth rate| total asset return growth rate Ratio| cash reinvestment %| current ratio| quick ratio| interest expense ratio| total debt/total net worth| debt ratio %| net worth/assets| long-term fund suitability ratio (A)| borrowing dependency| contingent liabilities/net worth| Operating profit/paid-in capital| net profit before tax/paid-in capital| inventory and accounts receivable/net value| total asset turnover| accounts receivable turnover| average collection days| inventory turnover rate (times)| fixed assets Turnover frequency| net worth turnover rate (times)| revenue per person| operating profit per person| allocation rate per person| working capital to total assets|Quick asset/Total asset|current assets/total assets|cash / total assets|Quick asset /current liabilities|cash / current liability|current liability to assets|operating funds to liability|Inventory/working capital|Inventory/current liability|current liability / liability|working capital/equity|current liability/equity|long-term liability to current assets|Retained Earnings/Total assets|total income / total expense|total expense /assets| current asset turnover rate| quick asset turnover rate| working capitcal turnover rate| cash turnover rate| Cash flow to Sales| fix assets to assets| current liability to liability|current liability to equity|equity to long-term liability|Cash flow to total assets|cash flow to liability|CFO to ASSETS|cash flow to equity|current liabilities to current assets|one if total liabilities exceeds total assets zero otherwise|net income to total assets|total assets to GNP price|No-credit interval|Gross profit to Sales|Net income to stockholder's Equity|liability to equity|Degree of financial leverage (DFL)|Interest coverage ratio( Interest expense to EBIT )|one if net income was negative for the last two year zero otherwise|equity to liability|\n",
      "+---------+--------------------------------------------------------+---------------------------------------+--------------------------------------------------+-----------------------+----------------------------+----------------------+--------------------------+----------------------------+--------------------------------------------+-------------------------------------+-----------------------+--------------------------------------+---------------+------------------------------------+-------------+------------------------+------------------------+------------------------+----------------------------------------+--------------------+-------------------------+----------------------------------+---------------------------------------+----------------------------------------+-----------------------------+---------------------------------+-------------------------------+----------------------------------+------------------------+----------------------+-------------------------------------+--------------------+--------------+------------+-----------------------+---------------------------+-------------+-----------------+-------------------------------------+---------------------+---------------------------------+---------------------------------+--------------------------------------+--------------------------------------------+---------------------+-----------------------------+------------------------+--------------------------------+--------------------------------+--------------------------------+-------------------+----------------------------+---------------------------+--------------------------------+-----------------------+---------------------------+-------------------+--------------------------------+------------------------+---------------------------+----------------------------+-------------------------+---------------------------+-----------------------------+----------------------+------------------------+-------------------------------------+------------------------------+----------------------------+---------------------+----------------------------+--------------------------+-------------------------------+-------------------+-------------------+---------------------+-------------------------------+---------------------------+-----------------------------+-------------------------+----------------------+-------------+-------------------+-------------------------------------+------------------------------------------------------------+--------------------------+-------------------------+------------------+---------------------+----------------------------------+-------------------+----------------------------------+---------------------------------------------------+-------------------------------------------------------------------+-------------------+\n",
      "|        0|                                                       0|                                      0|                                                 0|                      0|                           0|                     0|                         0|                           0|                                           0|                                    0|                      0|                                     0|              0|                                   0|            0|                       0|                       0|                       0|                                       0|                   0|                        0|                                 0|                                      0|                                       0|                            0|                                0|                              0|                                 0|                       0|                     0|                                    0|                   0|             0|           0|                      0|                          0|            0|                0|                                    0|                    0|                                0|                                0|                                     0|                                           0|                    0|                            0|                       0|                               0|                               0|                               0|                  0|                           0|                          0|                               0|                      0|                          0|                  0|                               0|                       0|                          0|                           0|                        0|                          0|                            0|                     0|                       0|                                    0|                             0|                           0|                    0|                           0|                         0|                              0|                  0|                  0|                    0|                              0|                          0|                            0|                        0|                     0|            0|                  0|                                    0|                                                           0|                         0|                        0|                 0|                    0|                                 0|                  0|                                 0|                                                  0|                                                                  0|                  0|\n",
      "+---------+--------------------------------------------------------+---------------------------------------+--------------------------------------------------+-----------------------+----------------------------+----------------------+--------------------------+----------------------------+--------------------------------------------+-------------------------------------+-----------------------+--------------------------------------+---------------+------------------------------------+-------------+------------------------+------------------------+------------------------+----------------------------------------+--------------------+-------------------------+----------------------------------+---------------------------------------+----------------------------------------+-----------------------------+---------------------------------+-------------------------------+----------------------------------+------------------------+----------------------+-------------------------------------+--------------------+--------------+------------+-----------------------+---------------------------+-------------+-----------------+-------------------------------------+---------------------+---------------------------------+---------------------------------+--------------------------------------+--------------------------------------------+---------------------+-----------------------------+------------------------+--------------------------------+--------------------------------+--------------------------------+-------------------+----------------------------+---------------------------+--------------------------------+-----------------------+---------------------------+-------------------+--------------------------------+------------------------+---------------------------+----------------------------+-------------------------+---------------------------+-----------------------------+----------------------+------------------------+-------------------------------------+------------------------------+----------------------------+---------------------+----------------------------+--------------------------+-------------------------------+-------------------+-------------------+---------------------+-------------------------------+---------------------------+-----------------------------+-------------------------+----------------------+-------------+-------------------+-------------------------------------+------------------------------------------------------------+--------------------------+-------------------------+------------------+---------------------+----------------------------------+-------------------+----------------------------------+---------------------------------------------------+-------------------------------------------------------------------+-------------------+\n",
      "\n"
     ]
    }
   ],
   "source": [
    "df.select([count(when(isnan(c), c)).alias(c) for c in df.columns]).show()"
   ]
  },
  {
   "cell_type": "code",
   "execution_count": 15,
   "metadata": {},
   "outputs": [
    {
     "name": "stdout",
     "output_type": "stream",
     "text": [
      "+---------+--------------------------------------------------------+---------------------------------------+--------------------------------------------------+-----------------------+----------------------------+----------------------+--------------------------+----------------------------+--------------------------------------------+-------------------------------------+-----------------------+--------------------------------------+---------------+------------------------------------+-------------+------------------------+------------------------+------------------------+----------------------------------------+--------------------+-------------------------+----------------------------------+---------------------------------------+----------------------------------------+-----------------------------+---------------------------------+-------------------------------+----------------------------------+------------------------+----------------------+-------------------------------------+--------------------+--------------+------------+-----------------------+---------------------------+-------------+-----------------+-------------------------------------+---------------------+---------------------------------+---------------------------------+--------------------------------------+--------------------------------------------+---------------------+-----------------------------+------------------------+--------------------------------+--------------------------------+--------------------------------+-------------------+----------------------------+---------------------------+--------------------------------+-----------------------+---------------------------+-------------------+--------------------------------+------------------------+---------------------------+----------------------------+-------------------------+---------------------------+-----------------------------+----------------------+------------------------+-------------------------------------+------------------------------+----------------------------+---------------------+----------------------------+--------------------------+-------------------------------+-------------------+-------------------+---------------------+-------------------------------+---------------------------+-----------------------------+-------------------------+----------------------+-------------+-------------------+-------------------------------------+------------------------------------------------------------+--------------------------+-------------------------+------------------+---------------------+----------------------------------+-------------------+----------------------------------+---------------------------------------------------+-------------------------------------------------------------------+-------------------+\n",
      "|Bankrupt?| ROA(C) before interest and depreciation before interest| ROA(A) before interest and % after tax| ROA(B) before interest and depreciation after tax| operating gross margin| realized sales gross margin| operating profit rate| tax Pre-net interest rate| after-tax net interest rate| non-industry income and expenditure/revenue| continuous interest rate (after tax)| operating expense rate| research and development expense rate| cash flow rate| interest-bearing debt interest rate| tax rate (A)| per Net Share Value (B)| Net Value Per Share (A)| Net Value Per Share (C)| Persistent EPS in the Last Four Seasons| Cash Flow Per Share| Revenue Per Share (Yuan)| Operating Profit Per Share (Yuan)| Per Share Net profit before tax (yuan)| realized sales gross profit growth rate| operating profit growth rate| after-tax net profit growth rate| regular net profit growth rate| continuous net profit growth rate| total asset growth rate| net value growth rate| total asset return growth rate Ratio| cash reinvestment %| current ratio| quick ratio| interest expense ratio| total debt/total net worth| debt ratio %| net worth/assets| long-term fund suitability ratio (A)| borrowing dependency| contingent liabilities/net worth| Operating profit/paid-in capital| net profit before tax/paid-in capital| inventory and accounts receivable/net value| total asset turnover| accounts receivable turnover| average collection days| inventory turnover rate (times)| fixed assets Turnover frequency| net worth turnover rate (times)| revenue per person| operating profit per person| allocation rate per person| working capital to total assets|Quick asset/Total asset|current assets/total assets|cash / total assets|Quick asset /current liabilities|cash / current liability|current liability to assets|operating funds to liability|Inventory/working capital|Inventory/current liability|current liability / liability|working capital/equity|current liability/equity|long-term liability to current assets|Retained Earnings/Total assets|total income / total expense|total expense /assets| current asset turnover rate| quick asset turnover rate| working capitcal turnover rate| cash turnover rate| Cash flow to Sales| fix assets to assets| current liability to liability|current liability to equity|equity to long-term liability|Cash flow to total assets|cash flow to liability|CFO to ASSETS|cash flow to equity|current liabilities to current assets|one if total liabilities exceeds total assets zero otherwise|net income to total assets|total assets to GNP price|No-credit interval|Gross profit to Sales|Net income to stockholder's Equity|liability to equity|Degree of financial leverage (DFL)|Interest coverage ratio( Interest expense to EBIT )|one if net income was negative for the last two year zero otherwise|equity to liability|\n",
      "+---------+--------------------------------------------------------+---------------------------------------+--------------------------------------------------+-----------------------+----------------------------+----------------------+--------------------------+----------------------------+--------------------------------------------+-------------------------------------+-----------------------+--------------------------------------+---------------+------------------------------------+-------------+------------------------+------------------------+------------------------+----------------------------------------+--------------------+-------------------------+----------------------------------+---------------------------------------+----------------------------------------+-----------------------------+---------------------------------+-------------------------------+----------------------------------+------------------------+----------------------+-------------------------------------+--------------------+--------------+------------+-----------------------+---------------------------+-------------+-----------------+-------------------------------------+---------------------+---------------------------------+---------------------------------+--------------------------------------+--------------------------------------------+---------------------+-----------------------------+------------------------+--------------------------------+--------------------------------+--------------------------------+-------------------+----------------------------+---------------------------+--------------------------------+-----------------------+---------------------------+-------------------+--------------------------------+------------------------+---------------------------+----------------------------+-------------------------+---------------------------+-----------------------------+----------------------+------------------------+-------------------------------------+------------------------------+----------------------------+---------------------+----------------------------+--------------------------+-------------------------------+-------------------+-------------------+---------------------+-------------------------------+---------------------------+-----------------------------+-------------------------+----------------------+-------------+-------------------+-------------------------------------+------------------------------------------------------------+--------------------------+-------------------------+------------------+---------------------+----------------------------------+-------------------+----------------------------------+---------------------------------------------------+-------------------------------------------------------------------+-------------------+\n",
      "|        0|                                                       0|                                      0|                                                 0|                      0|                           0|                     0|                         0|                           0|                                           0|                                    0|                      0|                                     0|              0|                                   0|            0|                       0|                       0|                       0|                                       0|                   0|                        0|                                 0|                                      0|                                       0|                            0|                                0|                              0|                                 0|                       0|                     0|                                    0|                   0|             0|           0|                      0|                          0|            0|                0|                                    0|                    0|                                0|                                0|                                     0|                                           0|                    0|                            0|                       0|                               0|                               0|                               0|                  0|                           0|                          0|                               0|                      0|                          0|                  0|                               0|                       0|                          0|                           0|                        0|                          0|                            0|                     0|                       0|                                    0|                             0|                           0|                    0|                           0|                         0|                              0|                  0|                  0|                    0|                              0|                          0|                            0|                        0|                     0|            0|                  0|                                    0|                                                           0|                         0|                        0|                 0|                    0|                                 0|                  0|                                 0|                                                  0|                                                                  0|                  0|\n",
      "+---------+--------------------------------------------------------+---------------------------------------+--------------------------------------------------+-----------------------+----------------------------+----------------------+--------------------------+----------------------------+--------------------------------------------+-------------------------------------+-----------------------+--------------------------------------+---------------+------------------------------------+-------------+------------------------+------------------------+------------------------+----------------------------------------+--------------------+-------------------------+----------------------------------+---------------------------------------+----------------------------------------+-----------------------------+---------------------------------+-------------------------------+----------------------------------+------------------------+----------------------+-------------------------------------+--------------------+--------------+------------+-----------------------+---------------------------+-------------+-----------------+-------------------------------------+---------------------+---------------------------------+---------------------------------+--------------------------------------+--------------------------------------------+---------------------+-----------------------------+------------------------+--------------------------------+--------------------------------+--------------------------------+-------------------+----------------------------+---------------------------+--------------------------------+-----------------------+---------------------------+-------------------+--------------------------------+------------------------+---------------------------+----------------------------+-------------------------+---------------------------+-----------------------------+----------------------+------------------------+-------------------------------------+------------------------------+----------------------------+---------------------+----------------------------+--------------------------+-------------------------------+-------------------+-------------------+---------------------+-------------------------------+---------------------------+-----------------------------+-------------------------+----------------------+-------------+-------------------+-------------------------------------+------------------------------------------------------------+--------------------------+-------------------------+------------------+---------------------+----------------------------------+-------------------+----------------------------------+---------------------------------------------------+-------------------------------------------------------------------+-------------------+\n",
      "\n"
     ]
    }
   ],
   "source": [
    "df.select([count(when(col(c).isNull(), c)).alias(c) for c in df.columns]).show()"
   ]
  },
  {
   "cell_type": "markdown",
   "metadata": {},
   "source": [
    "#### Linear regression "
   ]
  },
  {
   "cell_type": "markdown",
   "metadata": {},
   "source": [
    "create feature vector "
   ]
  },
  {
   "cell_type": "code",
   "execution_count": 17,
   "metadata": {},
   "outputs": [
    {
     "data": {
      "text/plain": [
       "['Bankrupt?',\n",
       " ' ROA(C) before interest and depreciation before interest',\n",
       " ' ROA(A) before interest and % after tax',\n",
       " ' ROA(B) before interest and depreciation after tax',\n",
       " ' operating gross margin',\n",
       " ' realized sales gross margin',\n",
       " ' operating profit rate',\n",
       " ' tax Pre-net interest rate',\n",
       " ' after-tax net interest rate',\n",
       " ' non-industry income and expenditure/revenue',\n",
       " ' continuous interest rate (after tax)',\n",
       " ' operating expense rate',\n",
       " ' research and development expense rate',\n",
       " ' cash flow rate',\n",
       " ' interest-bearing debt interest rate',\n",
       " ' tax rate (A)',\n",
       " ' per Net Share Value (B)',\n",
       " ' Net Value Per Share (A)',\n",
       " ' Net Value Per Share (C)',\n",
       " ' Persistent EPS in the Last Four Seasons',\n",
       " ' Cash Flow Per Share',\n",
       " ' Revenue Per Share (Yuan)',\n",
       " ' Operating Profit Per Share (Yuan)',\n",
       " ' Per Share Net profit before tax (yuan)',\n",
       " ' realized sales gross profit growth rate',\n",
       " ' operating profit growth rate',\n",
       " ' after-tax net profit growth rate',\n",
       " ' regular net profit growth rate',\n",
       " ' continuous net profit growth rate',\n",
       " ' total asset growth rate',\n",
       " ' net value growth rate',\n",
       " ' total asset return growth rate Ratio',\n",
       " ' cash reinvestment %',\n",
       " ' current ratio',\n",
       " ' quick ratio',\n",
       " ' interest expense ratio',\n",
       " ' total debt/total net worth',\n",
       " ' debt ratio %',\n",
       " ' net worth/assets',\n",
       " ' long-term fund suitability ratio (A)',\n",
       " ' borrowing dependency',\n",
       " ' contingent liabilities/net worth',\n",
       " ' Operating profit/paid-in capital',\n",
       " ' net profit before tax/paid-in capital',\n",
       " ' inventory and accounts receivable/net value',\n",
       " ' total asset turnover',\n",
       " ' accounts receivable turnover',\n",
       " ' average collection days',\n",
       " ' inventory turnover rate (times)',\n",
       " ' fixed assets Turnover frequency',\n",
       " ' net worth turnover rate (times)',\n",
       " ' revenue per person',\n",
       " ' operating profit per person',\n",
       " ' allocation rate per person',\n",
       " ' working capital to total assets',\n",
       " 'Quick asset/Total asset',\n",
       " 'current assets/total assets',\n",
       " 'cash / total assets',\n",
       " 'Quick asset /current liabilities',\n",
       " 'cash / current liability',\n",
       " 'current liability to assets',\n",
       " 'operating funds to liability',\n",
       " 'Inventory/working capital',\n",
       " 'Inventory/current liability',\n",
       " 'current liability / liability',\n",
       " 'working capital/equity',\n",
       " 'current liability/equity',\n",
       " 'long-term liability to current assets',\n",
       " 'Retained Earnings/Total assets',\n",
       " 'total income / total expense',\n",
       " 'total expense /assets',\n",
       " ' current asset turnover rate',\n",
       " ' quick asset turnover rate',\n",
       " ' working capitcal turnover rate',\n",
       " ' cash turnover rate',\n",
       " ' Cash flow to Sales',\n",
       " ' fix assets to assets',\n",
       " ' current liability to liability',\n",
       " 'current liability to equity',\n",
       " 'equity to long-term liability',\n",
       " 'Cash flow to total assets',\n",
       " 'cash flow to liability',\n",
       " 'CFO to ASSETS',\n",
       " 'cash flow to equity',\n",
       " 'current liabilities to current assets',\n",
       " 'one if total liabilities exceeds total assets zero otherwise',\n",
       " 'net income to total assets',\n",
       " 'total assets to GNP price',\n",
       " 'No-credit interval',\n",
       " 'Gross profit to Sales',\n",
       " \"Net income to stockholder's Equity\",\n",
       " 'liability to equity',\n",
       " 'Degree of financial leverage (DFL)',\n",
       " 'Interest coverage ratio( Interest expense to EBIT )',\n",
       " 'one if net income was negative for the last two year zero otherwise',\n",
       " 'equity to liability']"
      ]
     },
     "execution_count": 17,
     "metadata": {},
     "output_type": "execute_result"
    }
   ],
   "source": [
    "df.columns"
   ]
  },
  {
   "cell_type": "code",
   "execution_count": 18,
   "metadata": {},
   "outputs": [],
   "source": [
    "from pyspark.ml.linalg import Vector\n",
    "from pyspark.ml.feature import VectorAssembler\n"
   ]
  },
  {
   "cell_type": "code",
   "execution_count": 19,
   "metadata": {},
   "outputs": [],
   "source": [
    "asembler = VectorAssembler(inputCols=[' ROA(C) before interest and depreciation before interest',\n",
    " ' ROA(A) before interest and % after tax',\n",
    " ' ROA(B) before interest and depreciation after tax',\n",
    " ' operating gross margin',\n",
    " ' realized sales gross margin',\n",
    " ' operating profit rate',\n",
    " ' tax Pre-net interest rate',\n",
    " ' after-tax net interest rate',\n",
    " ' non-industry income and expenditure/revenue',\n",
    " ' continuous interest rate (after tax)',\n",
    " ' operating expense rate',\n",
    " ' research and development expense rate',\n",
    " ' cash flow rate',\n",
    " ' interest-bearing debt interest rate',\n",
    " ' tax rate (A)',\n",
    " ' per Net Share Value (B)',\n",
    " ' Net Value Per Share (A)',\n",
    " ' Net Value Per Share (C)',\n",
    " ' Persistent EPS in the Last Four Seasons',\n",
    " ' Cash Flow Per Share',\n",
    " ' Revenue Per Share (Yuan)',\n",
    " ' Operating Profit Per Share (Yuan)',\n",
    " ' Per Share Net profit before tax (yuan)',\n",
    " ' realized sales gross profit growth rate',\n",
    " ' operating profit growth rate',\n",
    " ' after-tax net profit growth rate',\n",
    " ' regular net profit growth rate',\n",
    " ' continuous net profit growth rate',\n",
    " ' total asset growth rate',\n",
    " ' net value growth rate',\n",
    " ' total asset return growth rate Ratio',\n",
    " ' cash reinvestment %',\n",
    " ' current ratio',\n",
    " ' quick ratio',\n",
    " ' interest expense ratio',\n",
    " ' total debt/total net worth',\n",
    " ' debt ratio %',\n",
    " ' net worth/assets',\n",
    " ' long-term fund suitability ratio (A)',\n",
    " ' borrowing dependency',\n",
    " ' contingent liabilities/net worth',\n",
    " ' Operating profit/paid-in capital',\n",
    " ' net profit before tax/paid-in capital',\n",
    " ' inventory and accounts receivable/net value',\n",
    " ' total asset turnover',\n",
    " ' accounts receivable turnover',\n",
    " ' average collection days',\n",
    " ' inventory turnover rate (times)',\n",
    " ' fixed assets Turnover frequency',\n",
    " ' net worth turnover rate (times)',\n",
    " ' revenue per person',\n",
    " ' operating profit per person',\n",
    " ' allocation rate per person',\n",
    " ' working capital to total assets',\n",
    " 'Quick asset/Total asset',\n",
    " 'current assets/total assets',\n",
    " 'cash / total assets',\n",
    " 'Quick asset /current liabilities',\n",
    " 'cash / current liability',\n",
    " 'current liability to assets',\n",
    " 'operating funds to liability',\n",
    " 'Inventory/working capital',\n",
    " 'Inventory/current liability',\n",
    " 'current liability / liability',\n",
    " 'working capital/equity',\n",
    " 'current liability/equity',\n",
    " 'long-term liability to current assets',\n",
    " 'Retained Earnings/Total assets',\n",
    " 'total income / total expense',\n",
    " 'total expense /assets',\n",
    " ' current asset turnover rate',\n",
    " ' quick asset turnover rate',\n",
    " ' working capitcal turnover rate',\n",
    " ' cash turnover rate',\n",
    " ' Cash flow to Sales',\n",
    " ' fix assets to assets',\n",
    " ' current liability to liability',\n",
    " 'current liability to equity',\n",
    " 'equity to long-term liability',\n",
    " 'Cash flow to total assets',\n",
    " 'cash flow to liability',\n",
    " 'CFO to ASSETS',\n",
    " 'cash flow to equity',\n",
    " 'current liabilities to current assets',\n",
    " 'one if total liabilities exceeds total assets zero otherwise',\n",
    " 'net income to total assets',\n",
    " 'total assets to GNP price',\n",
    " 'No-credit interval',\n",
    " 'Gross profit to Sales',\n",
    " \"Net income to stockholder's Equity\",\n",
    " 'liability to equity',\n",
    " 'Degree of financial leverage (DFL)',\n",
    " 'Interest coverage ratio( Interest expense to EBIT )',\n",
    " 'one if net income was negative for the last two year zero otherwise',\n",
    " 'equity to liability'], outputCol='features')"
   ]
  },
  {
   "cell_type": "code",
   "execution_count": 20,
   "metadata": {},
   "outputs": [],
   "source": [
    "datatransformed = asembler.transform(df)"
   ]
  },
  {
   "cell_type": "code",
   "execution_count": 21,
   "metadata": {},
   "outputs": [
    {
     "name": "stdout",
     "output_type": "stream",
     "text": [
      "+--------------------+\n",
      "|            features|\n",
      "+--------------------+\n",
      "|[0.37059425730024...|\n",
      "|[0.46429093745429...|\n",
      "|[0.42607127187637...|\n",
      "|[0.39984400136498...|\n",
      "|[0.46502218105591...|\n",
      "|[0.38868034904694...|\n",
      "|[0.39092282942524...|\n",
      "|[0.50836055184517...|\n",
      "|[0.48851947545459...|\n",
      "|[0.49568566275045...|\n",
      "|[0.48247452834787...|\n",
      "|[0.44440111149027...|\n",
      "|[0.49115195242041...|\n",
      "|[0.47404085214254...|\n",
      "|[0.50670306634816...|\n",
      "|[0.51382050407058...|\n",
      "|[0.48890947204212...|\n",
      "|[0.53595281041290...|\n",
      "|[0.50407058938234...|\n",
      "|[0.48739823526544...|\n",
      "+--------------------+\n",
      "only showing top 20 rows\n",
      "\n"
     ]
    }
   ],
   "source": [
    "datatransformed.select('features').show()"
   ]
  },
  {
   "cell_type": "code",
   "execution_count": 22,
   "metadata": {},
   "outputs": [],
   "source": [
    "final_dataset = datatransformed.select('features', 'Bankrupt?')"
   ]
  },
  {
   "cell_type": "markdown",
   "metadata": {},
   "source": [
    "our final dataset is composed of two columns one is the features and the other one is the label, that is the way spark handle data"
   ]
  },
  {
   "cell_type": "code",
   "execution_count": 23,
   "metadata": {},
   "outputs": [
    {
     "name": "stdout",
     "output_type": "stream",
     "text": [
      "+--------------------+---------+\n",
      "|            features|Bankrupt?|\n",
      "+--------------------+---------+\n",
      "|[0.37059425730024...|        1|\n",
      "|[0.46429093745429...|        1|\n",
      "|[0.42607127187637...|        1|\n",
      "|[0.39984400136498...|        1|\n",
      "|[0.46502218105591...|        1|\n",
      "|[0.38868034904694...|        1|\n",
      "|[0.39092282942524...|        0|\n",
      "|[0.50836055184517...|        0|\n",
      "|[0.48851947545459...|        0|\n",
      "|[0.49568566275045...|        0|\n",
      "|[0.48247452834787...|        0|\n",
      "|[0.44440111149027...|        0|\n",
      "|[0.49115195242041...|        0|\n",
      "|[0.47404085214254...|        0|\n",
      "|[0.50670306634816...|        0|\n",
      "|[0.51382050407058...|        0|\n",
      "|[0.48890947204212...|        0|\n",
      "|[0.53595281041290...|        0|\n",
      "|[0.50407058938234...|        0|\n",
      "|[0.48739823526544...|        0|\n",
      "+--------------------+---------+\n",
      "only showing top 20 rows\n",
      "\n"
     ]
    }
   ],
   "source": [
    "final_dataset.show()"
   ]
  },
  {
   "cell_type": "markdown",
   "metadata": {},
   "source": [
    "let's split our dataset into training/test datasets"
   ]
  },
  {
   "cell_type": "code",
   "execution_count": 24,
   "metadata": {},
   "outputs": [],
   "source": [
    "train_ds, test_ds = final_dataset.randomSplit([0.7, 0.3])"
   ]
  },
  {
   "cell_type": "code",
   "execution_count": 26,
   "metadata": {},
   "outputs": [
    {
     "name": "stdout",
     "output_type": "stream",
     "text": [
      "+-------+-------------------+\n",
      "|summary|          Bankrupt?|\n",
      "+-------+-------------------+\n",
      "|  count|               4710|\n",
      "|   mean|0.03184713375796178|\n",
      "| stddev|0.17561162114587842|\n",
      "|    min|                  0|\n",
      "|    max|                  1|\n",
      "+-------+-------------------+\n",
      "\n",
      "+-------+-------------------+\n",
      "|summary|          Bankrupt?|\n",
      "+-------+-------------------+\n",
      "|  count|               2109|\n",
      "|   mean|0.03319108582266477|\n",
      "| stddev|0.17917773393465225|\n",
      "|    min|                  0|\n",
      "|    max|                  1|\n",
      "+-------+-------------------+\n",
      "\n"
     ]
    }
   ],
   "source": [
    "train_ds.describe().show()\n",
    "test_ds.describe().show()"
   ]
  },
  {
   "cell_type": "markdown",
   "metadata": {},
   "source": [
    "Let's create our linear regression model "
   ]
  },
  {
   "cell_type": "code",
   "execution_count": 27,
   "metadata": {},
   "outputs": [],
   "source": [
    "model = LinearRegression(labelCol='Bankrupt?')"
   ]
  },
  {
   "cell_type": "markdown",
   "metadata": {},
   "source": [
    "Model created ! Let's fit our model to the data "
   ]
  },
  {
   "cell_type": "code",
   "execution_count": 29,
   "metadata": {},
   "outputs": [],
   "source": [
    "linear_model = model.fit(train_ds)"
   ]
  },
  {
   "cell_type": "markdown",
   "metadata": {},
   "source": [
    "Now that our model is created and fited, let's evaluate it "
   ]
  },
  {
   "cell_type": "code",
   "execution_count": 31,
   "metadata": {},
   "outputs": [],
   "source": [
    "test_result = linear_model.evaluate(test_ds)"
   ]
  },
  {
   "cell_type": "code",
   "execution_count": 32,
   "metadata": {},
   "outputs": [
    {
     "name": "stdout",
     "output_type": "stream",
     "text": [
      "+--------------------+\n",
      "|           residuals|\n",
      "+--------------------+\n",
      "|  0.8492461731448451|\n",
      "|  0.6016019165585842|\n",
      "|  0.6522660178817041|\n",
      "|-0.17825398359259292|\n",
      "|-0.11668973521122972|\n",
      "|-0.29857109894731604|\n",
      "|  0.7760440814973846|\n",
      "|-0.12384139755845602|\n",
      "|-0.10924852555145748|\n",
      "|-0.07922126550170638|\n",
      "| 0.01039665481491614|\n",
      "|  0.7768954792891227|\n",
      "|  0.7532272996336813|\n",
      "|-0.19716420082111696|\n",
      "| -0.0955818378298714|\n",
      "|-0.02011745117983...|\n",
      "| -0.1084830897355138|\n",
      "|  1.0936088652838691|\n",
      "|-0.12108614179113442|\n",
      "|-0.08656714611783833|\n",
      "+--------------------+\n",
      "only showing top 20 rows\n",
      "\n"
     ]
    }
   ],
   "source": [
    "test_result.residuals.show()"
   ]
  },
  {
   "cell_type": "code",
   "execution_count": 33,
   "metadata": {},
   "outputs": [],
   "source": [
    "data_test = test_ds.select('features')"
   ]
  },
  {
   "cell_type": "code",
   "execution_count": 34,
   "metadata": {},
   "outputs": [
    {
     "ename": "Py4JJavaError",
     "evalue": "An error occurred while calling o4030.predict.\n: java.lang.ClassCastException: class org.apache.spark.sql.Dataset cannot be cast to class org.apache.spark.ml.linalg.Vector (org.apache.spark.sql.Dataset and org.apache.spark.ml.linalg.Vector are in unnamed module of loader 'app')\r\n\tat org.apache.spark.ml.regression.LinearRegressionModel.predict(LinearRegression.scala:631)\r\n\tat java.base/jdk.internal.reflect.NativeMethodAccessorImpl.invoke0(Native Method)\r\n\tat java.base/jdk.internal.reflect.NativeMethodAccessorImpl.invoke(NativeMethodAccessorImpl.java:64)\r\n\tat java.base/jdk.internal.reflect.DelegatingMethodAccessorImpl.invoke(DelegatingMethodAccessorImpl.java:43)\r\n\tat java.base/java.lang.reflect.Method.invoke(Method.java:564)\r\n\tat py4j.reflection.MethodInvoker.invoke(MethodInvoker.java:244)\r\n\tat py4j.reflection.ReflectionEngine.invoke(ReflectionEngine.java:357)\r\n\tat py4j.Gateway.invoke(Gateway.java:282)\r\n\tat py4j.commands.AbstractCommand.invokeMethod(AbstractCommand.java:132)\r\n\tat py4j.commands.CallCommand.execute(CallCommand.java:79)\r\n\tat py4j.GatewayConnection.run(GatewayConnection.java:238)\r\n\tat java.base/java.lang.Thread.run(Thread.java:832)\r\n",
     "output_type": "error",
     "traceback": [
      "\u001b[1;31m---------------------------------------------------------------------------\u001b[0m",
      "\u001b[1;31mPy4JJavaError\u001b[0m                             Traceback (most recent call last)",
      "\u001b[1;32m<ipython-input-34-7fc794622817>\u001b[0m in \u001b[0;36m<module>\u001b[1;34m\u001b[0m\n\u001b[1;32m----> 1\u001b[1;33m \u001b[0mpredictions\u001b[0m \u001b[1;33m=\u001b[0m \u001b[0mlinear_model\u001b[0m\u001b[1;33m.\u001b[0m\u001b[0mpredict\u001b[0m\u001b[1;33m(\u001b[0m\u001b[0mdata_test\u001b[0m\u001b[1;33m)\u001b[0m\u001b[1;33m\u001b[0m\u001b[1;33m\u001b[0m\u001b[0m\n\u001b[0m",
      "\u001b[1;32m~\\PycharmProjects\\spark-3.0.1-bin-hadoop2.7\\python\\pyspark\\ml\\wrapper.py\u001b[0m in \u001b[0;36mpredict\u001b[1;34m(self, value)\u001b[0m\n\u001b[0;32m    448\u001b[0m         \u001b[0mPredict\u001b[0m \u001b[0mlabel\u001b[0m \u001b[1;32mfor\u001b[0m \u001b[0mthe\u001b[0m \u001b[0mgiven\u001b[0m \u001b[0mfeatures\u001b[0m\u001b[1;33m.\u001b[0m\u001b[1;33m\u001b[0m\u001b[1;33m\u001b[0m\u001b[0m\n\u001b[0;32m    449\u001b[0m         \"\"\"\n\u001b[1;32m--> 450\u001b[1;33m         \u001b[1;32mreturn\u001b[0m \u001b[0mself\u001b[0m\u001b[1;33m.\u001b[0m\u001b[0m_call_java\u001b[0m\u001b[1;33m(\u001b[0m\u001b[1;34m\"predict\"\u001b[0m\u001b[1;33m,\u001b[0m \u001b[0mvalue\u001b[0m\u001b[1;33m)\u001b[0m\u001b[1;33m\u001b[0m\u001b[1;33m\u001b[0m\u001b[0m\n\u001b[0m",
      "\u001b[1;32m~\\PycharmProjects\\spark-3.0.1-bin-hadoop2.7\\python\\pyspark\\ml\\wrapper.py\u001b[0m in \u001b[0;36m_call_java\u001b[1;34m(self, name, *args)\u001b[0m\n\u001b[0;32m     55\u001b[0m         \u001b[0msc\u001b[0m \u001b[1;33m=\u001b[0m \u001b[0mSparkContext\u001b[0m\u001b[1;33m.\u001b[0m\u001b[0m_active_spark_context\u001b[0m\u001b[1;33m\u001b[0m\u001b[1;33m\u001b[0m\u001b[0m\n\u001b[0;32m     56\u001b[0m         \u001b[0mjava_args\u001b[0m \u001b[1;33m=\u001b[0m \u001b[1;33m[\u001b[0m\u001b[0m_py2java\u001b[0m\u001b[1;33m(\u001b[0m\u001b[0msc\u001b[0m\u001b[1;33m,\u001b[0m \u001b[0marg\u001b[0m\u001b[1;33m)\u001b[0m \u001b[1;32mfor\u001b[0m \u001b[0marg\u001b[0m \u001b[1;32min\u001b[0m \u001b[0margs\u001b[0m\u001b[1;33m]\u001b[0m\u001b[1;33m\u001b[0m\u001b[1;33m\u001b[0m\u001b[0m\n\u001b[1;32m---> 57\u001b[1;33m         \u001b[1;32mreturn\u001b[0m \u001b[0m_java2py\u001b[0m\u001b[1;33m(\u001b[0m\u001b[0msc\u001b[0m\u001b[1;33m,\u001b[0m \u001b[0mm\u001b[0m\u001b[1;33m(\u001b[0m\u001b[1;33m*\u001b[0m\u001b[0mjava_args\u001b[0m\u001b[1;33m)\u001b[0m\u001b[1;33m)\u001b[0m\u001b[1;33m\u001b[0m\u001b[1;33m\u001b[0m\u001b[0m\n\u001b[0m\u001b[0;32m     58\u001b[0m \u001b[1;33m\u001b[0m\u001b[0m\n\u001b[0;32m     59\u001b[0m     \u001b[1;33m@\u001b[0m\u001b[0mstaticmethod\u001b[0m\u001b[1;33m\u001b[0m\u001b[1;33m\u001b[0m\u001b[0m\n",
      "\u001b[1;32m~\\PycharmProjects\\spark-3.0.1-bin-hadoop2.7\\python\\lib\\py4j-0.10.9-src.zip\\py4j\\java_gateway.py\u001b[0m in \u001b[0;36m__call__\u001b[1;34m(self, *args)\u001b[0m\n\u001b[0;32m   1302\u001b[0m \u001b[1;33m\u001b[0m\u001b[0m\n\u001b[0;32m   1303\u001b[0m         \u001b[0manswer\u001b[0m \u001b[1;33m=\u001b[0m \u001b[0mself\u001b[0m\u001b[1;33m.\u001b[0m\u001b[0mgateway_client\u001b[0m\u001b[1;33m.\u001b[0m\u001b[0msend_command\u001b[0m\u001b[1;33m(\u001b[0m\u001b[0mcommand\u001b[0m\u001b[1;33m)\u001b[0m\u001b[1;33m\u001b[0m\u001b[1;33m\u001b[0m\u001b[0m\n\u001b[1;32m-> 1304\u001b[1;33m         return_value = get_return_value(\n\u001b[0m\u001b[0;32m   1305\u001b[0m             answer, self.gateway_client, self.target_id, self.name)\n\u001b[0;32m   1306\u001b[0m \u001b[1;33m\u001b[0m\u001b[0m\n",
      "\u001b[1;32m~\\PycharmProjects\\spark-3.0.1-bin-hadoop2.7\\python\\pyspark\\sql\\utils.py\u001b[0m in \u001b[0;36mdeco\u001b[1;34m(*a, **kw)\u001b[0m\n\u001b[0;32m    126\u001b[0m     \u001b[1;32mdef\u001b[0m \u001b[0mdeco\u001b[0m\u001b[1;33m(\u001b[0m\u001b[1;33m*\u001b[0m\u001b[0ma\u001b[0m\u001b[1;33m,\u001b[0m \u001b[1;33m**\u001b[0m\u001b[0mkw\u001b[0m\u001b[1;33m)\u001b[0m\u001b[1;33m:\u001b[0m\u001b[1;33m\u001b[0m\u001b[1;33m\u001b[0m\u001b[0m\n\u001b[0;32m    127\u001b[0m         \u001b[1;32mtry\u001b[0m\u001b[1;33m:\u001b[0m\u001b[1;33m\u001b[0m\u001b[1;33m\u001b[0m\u001b[0m\n\u001b[1;32m--> 128\u001b[1;33m             \u001b[1;32mreturn\u001b[0m \u001b[0mf\u001b[0m\u001b[1;33m(\u001b[0m\u001b[1;33m*\u001b[0m\u001b[0ma\u001b[0m\u001b[1;33m,\u001b[0m \u001b[1;33m**\u001b[0m\u001b[0mkw\u001b[0m\u001b[1;33m)\u001b[0m\u001b[1;33m\u001b[0m\u001b[1;33m\u001b[0m\u001b[0m\n\u001b[0m\u001b[0;32m    129\u001b[0m         \u001b[1;32mexcept\u001b[0m \u001b[0mpy4j\u001b[0m\u001b[1;33m.\u001b[0m\u001b[0mprotocol\u001b[0m\u001b[1;33m.\u001b[0m\u001b[0mPy4JJavaError\u001b[0m \u001b[1;32mas\u001b[0m \u001b[0me\u001b[0m\u001b[1;33m:\u001b[0m\u001b[1;33m\u001b[0m\u001b[1;33m\u001b[0m\u001b[0m\n\u001b[0;32m    130\u001b[0m             \u001b[0mconverted\u001b[0m \u001b[1;33m=\u001b[0m \u001b[0mconvert_exception\u001b[0m\u001b[1;33m(\u001b[0m\u001b[0me\u001b[0m\u001b[1;33m.\u001b[0m\u001b[0mjava_exception\u001b[0m\u001b[1;33m)\u001b[0m\u001b[1;33m\u001b[0m\u001b[1;33m\u001b[0m\u001b[0m\n",
      "\u001b[1;32m~\\PycharmProjects\\spark-3.0.1-bin-hadoop2.7\\python\\lib\\py4j-0.10.9-src.zip\\py4j\\protocol.py\u001b[0m in \u001b[0;36mget_return_value\u001b[1;34m(answer, gateway_client, target_id, name)\u001b[0m\n\u001b[0;32m    324\u001b[0m             \u001b[0mvalue\u001b[0m \u001b[1;33m=\u001b[0m \u001b[0mOUTPUT_CONVERTER\u001b[0m\u001b[1;33m[\u001b[0m\u001b[0mtype\u001b[0m\u001b[1;33m]\u001b[0m\u001b[1;33m(\u001b[0m\u001b[0manswer\u001b[0m\u001b[1;33m[\u001b[0m\u001b[1;36m2\u001b[0m\u001b[1;33m:\u001b[0m\u001b[1;33m]\u001b[0m\u001b[1;33m,\u001b[0m \u001b[0mgateway_client\u001b[0m\u001b[1;33m)\u001b[0m\u001b[1;33m\u001b[0m\u001b[1;33m\u001b[0m\u001b[0m\n\u001b[0;32m    325\u001b[0m             \u001b[1;32mif\u001b[0m \u001b[0manswer\u001b[0m\u001b[1;33m[\u001b[0m\u001b[1;36m1\u001b[0m\u001b[1;33m]\u001b[0m \u001b[1;33m==\u001b[0m \u001b[0mREFERENCE_TYPE\u001b[0m\u001b[1;33m:\u001b[0m\u001b[1;33m\u001b[0m\u001b[1;33m\u001b[0m\u001b[0m\n\u001b[1;32m--> 326\u001b[1;33m                 raise Py4JJavaError(\n\u001b[0m\u001b[0;32m    327\u001b[0m                     \u001b[1;34m\"An error occurred while calling {0}{1}{2}.\\n\"\u001b[0m\u001b[1;33m.\u001b[0m\u001b[1;33m\u001b[0m\u001b[1;33m\u001b[0m\u001b[0m\n\u001b[0;32m    328\u001b[0m                     format(target_id, \".\", name), value)\n",
      "\u001b[1;31mPy4JJavaError\u001b[0m: An error occurred while calling o4030.predict.\n: java.lang.ClassCastException: class org.apache.spark.sql.Dataset cannot be cast to class org.apache.spark.ml.linalg.Vector (org.apache.spark.sql.Dataset and org.apache.spark.ml.linalg.Vector are in unnamed module of loader 'app')\r\n\tat org.apache.spark.ml.regression.LinearRegressionModel.predict(LinearRegression.scala:631)\r\n\tat java.base/jdk.internal.reflect.NativeMethodAccessorImpl.invoke0(Native Method)\r\n\tat java.base/jdk.internal.reflect.NativeMethodAccessorImpl.invoke(NativeMethodAccessorImpl.java:64)\r\n\tat java.base/jdk.internal.reflect.DelegatingMethodAccessorImpl.invoke(DelegatingMethodAccessorImpl.java:43)\r\n\tat java.base/java.lang.reflect.Method.invoke(Method.java:564)\r\n\tat py4j.reflection.MethodInvoker.invoke(MethodInvoker.java:244)\r\n\tat py4j.reflection.ReflectionEngine.invoke(ReflectionEngine.java:357)\r\n\tat py4j.Gateway.invoke(Gateway.java:282)\r\n\tat py4j.commands.AbstractCommand.invokeMethod(AbstractCommand.java:132)\r\n\tat py4j.commands.CallCommand.execute(CallCommand.java:79)\r\n\tat py4j.GatewayConnection.run(GatewayConnection.java:238)\r\n\tat java.base/java.lang.Thread.run(Thread.java:832)\r\n"
     ]
    }
   ],
   "source": [
    "predictions = linear_model.predict(data_test)"
   ]
  },
  {
   "cell_type": "code",
   "execution_count": null,
   "metadata": {},
   "outputs": [],
   "source": []
  }
 ],
 "metadata": {
  "kernelspec": {
   "display_name": "Python 3",
   "language": "python",
   "name": "python3"
  },
  "language_info": {
   "codemirror_mode": {
    "name": "ipython",
    "version": 3
   },
   "file_extension": ".py",
   "mimetype": "text/x-python",
   "name": "python",
   "nbconvert_exporter": "python",
   "pygments_lexer": "ipython3",
   "version": "3.8.3"
  }
 },
 "nbformat": 4,
 "nbformat_minor": 4
}
