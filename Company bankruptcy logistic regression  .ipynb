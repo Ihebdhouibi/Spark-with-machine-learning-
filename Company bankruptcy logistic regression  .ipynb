{
 "cells": [
  {
   "cell_type": "markdown",
   "metadata": {},
   "source": [
    "## Apply logistic regression to predict company bankruptcy \n",
    "\n",
    "### Dataset : \n",
    "The data were collected from the Taiwan Economic Journal for the years 1999 to 2009. Company bankruptcy was defined based on the business regulations of the Taiwan Stock Exchange.\n",
    "\n",
    "Dataset : https://www.kaggle.com/fedesoriano/company-bankruptcy-prediction\n",
    "\n"
   ]
  },
  {
   "cell_type": "code",
   "execution_count": 1,
   "metadata": {},
   "outputs": [],
   "source": [
    "import findspark\n",
    "findspark.init()\n",
    "\n",
    "from pyspark.sql import SparkSession\n",
    "from pyspark.ml.classification import LogisticRegression \n",
    "from pyspark.sql.functions import isnan, when, col, count"
   ]
  },
  {
   "cell_type": "markdown",
   "metadata": {},
   "source": [
    "#### Create a spark session "
   ]
  },
  {
   "cell_type": "code",
   "execution_count": 2,
   "metadata": {},
   "outputs": [],
   "source": [
    "spark = SparkSession.builder.appName('Company bankruptcy prediction').getOrCreate()"
   ]
  },
  {
   "cell_type": "markdown",
   "metadata": {},
   "source": [
    "#### Load the dataset "
   ]
  },
  {
   "cell_type": "code",
   "execution_count": 3,
   "metadata": {},
   "outputs": [],
   "source": [
    "df = spark.read.csv('/Users/ihebd/PycharmProjects/Spark-with-machine-learning-/datasets/company bankruptcy.csv', \n",
    "                   inferSchema= True, header= True)"
   ]
  },
  {
   "cell_type": "markdown",
   "metadata": {},
   "source": [
    "Let's explore our dataset "
   ]
  },
  {
   "cell_type": "code",
   "execution_count": 4,
   "metadata": {},
   "outputs": [
    {
     "name": "stdout",
     "output_type": "stream",
     "text": [
      "root\n",
      " |-- Bankrupt?: integer (nullable = true)\n",
      " |--  ROA(C) before interest and depreciation before interest: double (nullable = true)\n",
      " |--  ROA(A) before interest and % after tax: double (nullable = true)\n",
      " |--  ROA(B) before interest and depreciation after tax: double (nullable = true)\n",
      " |--  operating gross margin: double (nullable = true)\n",
      " |--  realized sales gross margin: double (nullable = true)\n",
      " |--  operating profit rate: double (nullable = true)\n",
      " |--  tax Pre-net interest rate: double (nullable = true)\n",
      " |--  after-tax net interest rate: double (nullable = true)\n",
      " |--  non-industry income and expenditure/revenue: double (nullable = true)\n",
      " |--  continuous interest rate (after tax): double (nullable = true)\n",
      " |--  operating expense rate: double (nullable = true)\n",
      " |--  research and development expense rate: double (nullable = true)\n",
      " |--  cash flow rate: double (nullable = true)\n",
      " |--  interest-bearing debt interest rate: double (nullable = true)\n",
      " |--  tax rate (A): double (nullable = true)\n",
      " |--  per Net Share Value (B): double (nullable = true)\n",
      " |--  Net Value Per Share (A): double (nullable = true)\n",
      " |--  Net Value Per Share (C): double (nullable = true)\n",
      " |--  Persistent EPS in the Last Four Seasons: double (nullable = true)\n",
      " |--  Cash Flow Per Share: double (nullable = true)\n",
      " |--  Revenue Per Share (Yuan): double (nullable = true)\n",
      " |--  Operating Profit Per Share (Yuan): double (nullable = true)\n",
      " |--  Per Share Net profit before tax (yuan): double (nullable = true)\n",
      " |--  realized sales gross profit growth rate: double (nullable = true)\n",
      " |--  operating profit growth rate: double (nullable = true)\n",
      " |--  after-tax net profit growth rate: double (nullable = true)\n",
      " |--  regular net profit growth rate: double (nullable = true)\n",
      " |--  continuous net profit growth rate: double (nullable = true)\n",
      " |--  total asset growth rate: double (nullable = true)\n",
      " |--  net value growth rate: double (nullable = true)\n",
      " |--  total asset return growth rate Ratio: double (nullable = true)\n",
      " |--  cash reinvestment %: double (nullable = true)\n",
      " |--  current ratio: double (nullable = true)\n",
      " |--  quick ratio: double (nullable = true)\n",
      " |--  interest expense ratio: double (nullable = true)\n",
      " |--  total debt/total net worth: double (nullable = true)\n",
      " |--  debt ratio %: double (nullable = true)\n",
      " |--  net worth/assets: double (nullable = true)\n",
      " |--  long-term fund suitability ratio (A): double (nullable = true)\n",
      " |--  borrowing dependency: double (nullable = true)\n",
      " |--  contingent liabilities/net worth: double (nullable = true)\n",
      " |--  Operating profit/paid-in capital: double (nullable = true)\n",
      " |--  net profit before tax/paid-in capital: double (nullable = true)\n",
      " |--  inventory and accounts receivable/net value: double (nullable = true)\n",
      " |--  total asset turnover: double (nullable = true)\n",
      " |--  accounts receivable turnover: double (nullable = true)\n",
      " |--  average collection days: double (nullable = true)\n",
      " |--  inventory turnover rate (times): double (nullable = true)\n",
      " |--  fixed assets Turnover frequency: double (nullable = true)\n",
      " |--  net worth turnover rate (times): double (nullable = true)\n",
      " |--  revenue per person: double (nullable = true)\n",
      " |--  operating profit per person: double (nullable = true)\n",
      " |--  allocation rate per person: double (nullable = true)\n",
      " |--  working capital to total assets: double (nullable = true)\n",
      " |-- Quick asset/Total asset: double (nullable = true)\n",
      " |-- current assets/total assets: double (nullable = true)\n",
      " |-- cash / total assets: double (nullable = true)\n",
      " |-- Quick asset /current liabilities: double (nullable = true)\n",
      " |-- cash / current liability: double (nullable = true)\n",
      " |-- current liability to assets: double (nullable = true)\n",
      " |-- operating funds to liability: double (nullable = true)\n",
      " |-- Inventory/working capital: double (nullable = true)\n",
      " |-- Inventory/current liability: double (nullable = true)\n",
      " |-- current liability / liability: double (nullable = true)\n",
      " |-- working capital/equity: double (nullable = true)\n",
      " |-- current liability/equity: double (nullable = true)\n",
      " |-- long-term liability to current assets: double (nullable = true)\n",
      " |-- Retained Earnings/Total assets: double (nullable = true)\n",
      " |-- total income / total expense: double (nullable = true)\n",
      " |-- total expense /assets: double (nullable = true)\n",
      " |--  current asset turnover rate: double (nullable = true)\n",
      " |--  quick asset turnover rate: double (nullable = true)\n",
      " |--  working capitcal turnover rate: double (nullable = true)\n",
      " |--  cash turnover rate: double (nullable = true)\n",
      " |--  Cash flow to Sales: double (nullable = true)\n",
      " |--  fix assets to assets: double (nullable = true)\n",
      " |--  current liability to liability: double (nullable = true)\n",
      " |-- current liability to equity: double (nullable = true)\n",
      " |-- equity to long-term liability: double (nullable = true)\n",
      " |-- Cash flow to total assets: double (nullable = true)\n",
      " |-- cash flow to liability: double (nullable = true)\n",
      " |-- CFO to ASSETS: double (nullable = true)\n",
      " |-- cash flow to equity: double (nullable = true)\n",
      " |-- current liabilities to current assets: double (nullable = true)\n",
      " |-- one if total liabilities exceeds total assets zero otherwise: integer (nullable = true)\n",
      " |-- net income to total assets: double (nullable = true)\n",
      " |-- total assets to GNP price: double (nullable = true)\n",
      " |-- No-credit interval: double (nullable = true)\n",
      " |-- Gross profit to Sales: double (nullable = true)\n",
      " |-- Net income to stockholder's Equity: double (nullable = true)\n",
      " |-- liability to equity: double (nullable = true)\n",
      " |-- Degree of financial leverage (DFL): double (nullable = true)\n",
      " |-- Interest coverage ratio( Interest expense to EBIT ): double (nullable = true)\n",
      " |-- one if net income was negative for the last two year zero otherwise: integer (nullable = true)\n",
      " |-- equity to liability: double (nullable = true)\n",
      "\n"
     ]
    }
   ],
   "source": [
    "df.printSchema()"
   ]
  },
  {
   "cell_type": "code",
   "execution_count": 5,
   "metadata": {},
   "outputs": [
    {
     "data": {
      "text/plain": [
       "[Row(Bankrupt?=1,  ROA(C) before interest and depreciation before interest=0.370594257300249,  ROA(A) before interest and % after tax=0.424389446140427,  ROA(B) before interest and depreciation after tax=0.40574977247176,  operating gross margin=0.601457213277793,  realized sales gross margin=0.601457213277793,  operating profit rate=0.998969203197885,  tax Pre-net interest rate=0.796887145860514,  after-tax net interest rate=0.808809360876843,  non-industry income and expenditure/revenue=0.302646433889668,  continuous interest rate (after tax)=0.780984850207341,  operating expense rate=0.000125696868875964,  research and development expense rate=0.0,  cash flow rate=0.458143143520965,  interest-bearing debt interest rate=0.000725072507250725,  tax rate (A)=0.0,  per Net Share Value (B)=0.147949938898487,  Net Value Per Share (A)=0.147949938898487,  Net Value Per Share (C)=0.147949938898487,  Persistent EPS in the Last Four Seasons=0.16914058806845,  Cash Flow Per Share=0.311664426681757,  Revenue Per Share (Yuan)=0.0175597803893099,  Operating Profit Per Share (Yuan)=0.0959205276443286,  Per Share Net profit before tax (yuan)=0.138736160277171,  realized sales gross profit growth rate=0.0221022783580128,  operating profit growth rate=0.848194994526472,  after-tax net profit growth rate=0.688979462807371,  regular net profit growth rate=0.688979462807371,  continuous net profit growth rate=0.217535386199635,  total asset growth rate=4980000000.0,  net value growth rate=0.000326977269203033,  total asset return growth rate Ratio=0.263099983681843,  cash reinvestment %=0.363725271040572,  current ratio=0.00225896331056689,  quick ratio=0.00120775508523532,  interest expense ratio=0.629951302036958,  total debt/total net worth=0.0212659243655332,  debt ratio %=0.207576261450555,  net worth/assets=0.792423738549445,  long-term fund suitability ratio (A)=0.00502445472861451,  borrowing dependency=0.390284354359258,  contingent liabilities/net worth=0.00647850248610705,  Operating profit/paid-in capital=0.0958848339765825,  net profit before tax/paid-in capital=0.137757333534424,  inventory and accounts receivable/net value=0.398035698256887,  total asset turnover=0.0869565217391304,  accounts receivable turnover=0.00181388412648494,  average collection days=0.0034873642818412,  inventory turnover rate (times)=0.000182092597429571,  fixed assets Turnover frequency=0.000116500653235806,  net worth turnover rate (times)=0.0329032258064516,  revenue per person=0.0341641819543792,  operating profit per person=0.392912869451166,  allocation rate per person=0.0371353015800987,  working capital to total assets=0.67277529248986, Quick asset/Total asset=0.166672958825266, current assets/total assets=0.190642959052727, cash / total assets=0.00409440595228806, Quick asset /current liabilities=0.00199677086064508, cash / current liability=0.00014733602476056, current liability to assets=0.147308450425486, operating funds to liability=0.334015171333379, Inventory/working capital=0.276920158240506, Inventory/current liability=0.00103598999165807, current liability / liability=0.676269176153092, working capital/equity=0.721274551521743, current liability/equity=0.339077006789355, long-term liability to current assets=0.02559236799775, Retained Earnings/Total assets=0.903224771166726, total income / total expense=0.00202161301202566, total expense /assets=0.064855707690831,  current asset turnover rate=701000000.0,  quick asset turnover rate=6550000000.0,  working capitcal turnover rate=0.593830503987655,  cash turnover rate=458000000.0,  Cash flow to Sales=0.6715676535815,  fix assets to assets=0.424205762216667,  current liability to liability=0.676269176153092, current liability to equity=0.339077006789355, equity to long-term liability=0.126549487816618, Cash flow to total assets=0.637555395323871, cash flow to liability=0.458609147666847, CFO to ASSETS=0.52038191789012, cash flow to equity=0.312904948119326, current liabilities to current assets=0.11825047660899, one if total liabilities exceeds total assets zero otherwise=0, net income to total assets=0.716845343217827, total assets to GNP price=0.00921944002110296, No-credit interval=0.622878959445127, Gross profit to Sales=0.601453290101533, Net income to stockholder's Equity=0.82789021403512, liability to equity=0.29020189277926, Degree of financial leverage (DFL)=0.0266006307607414, Interest coverage ratio( Interest expense to EBIT )=0.564050112276341, one if net income was negative for the last two year zero otherwise=1, equity to liability=0.0164687409123162),\n",
       " Row(Bankrupt?=1,  ROA(C) before interest and depreciation before interest=0.464290937454297,  ROA(A) before interest and % after tax=0.53821412996075,  ROA(B) before interest and depreciation after tax=0.516730017666899,  operating gross margin=0.610235085544617,  realized sales gross margin=0.610235085544617,  operating profit rate=0.998945978205482,  tax Pre-net interest rate=0.797380191277827,  after-tax net interest rate=0.809300725667939,  non-industry income and expenditure/revenue=0.303556430290771,  continuous interest rate (after tax)=0.781505974330882,  operating expense rate=0.000289785053728762,  research and development expense rate=0.0,  cash flow rate=0.461867257156757,  interest-bearing debt interest rate=0.000647064706470647,  tax rate (A)=0.0,  per Net Share Value (B)=0.182251064009102,  Net Value Per Share (A)=0.182251064009102,  Net Value Per Share (C)=0.182251064009102,  Persistent EPS in the Last Four Seasons=0.2089439349532,  Cash Flow Per Share=0.318136804131004,  Revenue Per Share (Yuan)=0.0211443350424248,  Operating Profit Per Share (Yuan)=0.0937220096083381,  Per Share Net profit before tax (yuan)=0.16991790314077,  realized sales gross profit growth rate=0.0220801698690499,  operating profit growth rate=0.848087883815147,  after-tax net profit growth rate=0.689692901209989,  regular net profit growth rate=0.689701701610895,  continuous net profit growth rate=0.217619596450422,  total asset growth rate=6110000000.0,  net value growth rate=0.0004430401005442,  total asset return growth rate Ratio=0.264515778104141,  cash reinvestment %=0.376709139003763,  current ratio=0.00601620587767277,  quick ratio=0.00403936682691048,  interest expense ratio=0.635172463390912,  total debt/total net worth=0.0125023937843679,  debt ratio %=0.171176346101521,  net worth/assets=0.828823653898479,  long-term fund suitability ratio (A)=0.00505888175404082,  borrowing dependency=0.376760019951553,  contingent liabilities/net worth=0.0058350394852296,  Operating profit/paid-in capital=0.0937433843047209,  net profit before tax/paid-in capital=0.168961616770983,  inventory and accounts receivable/net value=0.397724882539793,  total asset turnover=0.0644677661169415,  accounts receivable turnover=0.00128635630446471,  average collection days=0.00491680791744408,  inventory turnover rate (times)=9360000000.0,  fixed assets Turnover frequency=719000000.0,  net worth turnover rate (times)=0.0254838709677419,  revenue per person=0.00688865061762848,  operating profit per person=0.39158996856697,  allocation rate per person=0.0123349721287826,  working capital to total assets=0.751110917003808, Quick asset/Total asset=0.127236002293688, current assets/total assets=0.182419054120616, cash / total assets=0.0149477269714099, Quick asset /current liabilities=0.00413602976079905, cash / current liability=0.00138391008146992, current liability to assets=0.0569628274180797, operating funds to liability=0.341105991992958, Inventory/working capital=0.28964157642601, Inventory/current liability=0.00520968239954949, current liability / liability=0.30858859304371, working capital/equity=0.731975288512351, current liability/equity=0.329740147869877, long-term liability to current assets=0.0239468186673397, Retained Earnings/Total assets=0.931065217577487, total income / total expense=0.00222560834310179, total expense /assets=0.0255158599950638,  current asset turnover rate=0.000106519762790299,  quick asset turnover rate=7700000000.0,  working capitcal turnover rate=0.59391554785427,  cash turnover rate=2490000000.0,  Cash flow to Sales=0.671569942261066,  fix assets to assets=0.468828128338473,  current liability to liability=0.30858859304371, current liability to equity=0.329740147869877, equity to long-term liability=0.120916105834965, Cash flow to total assets=0.64109998470196, cash flow to liability=0.459001053294128, CFO to ASSETS=0.567101308703163, cash flow to equity=0.314163135184666, current liabilities to current assets=0.0477752815903248, one if total liabilities exceeds total assets zero otherwise=0, net income to total assets=0.795297136043035, total assets to GNP price=0.00832330179481035, No-credit interval=0.623651741728055, Gross profit to Sales=0.610236525929872, Net income to stockholder's Equity=0.839969268005573, liability to equity=0.283845979801729, Degree of financial leverage (DFL)=0.264576819837375, Interest coverage ratio( Interest expense to EBIT )=0.570174946412453, one if net income was negative for the last two year zero otherwise=1, equity to liability=0.020794306334635),\n",
       " Row(Bankrupt?=1,  ROA(C) before interest and depreciation before interest=0.426071271876371,  ROA(A) before interest and % after tax=0.499018752725687,  ROA(B) before interest and depreciation after tax=0.472295090743616,  operating gross margin=0.601450006486113,  realized sales gross margin=0.601363524985947,  operating profit rate=0.998857353483229,  tax Pre-net interest rate=0.796403369254357,  after-tax net interest rate=0.808387521469543,  non-industry income and expenditure/revenue=0.302035177342951,  continuous interest rate (after tax)=0.780283936155909,  operating expense rate=0.000236129720556318,  research and development expense rate=25500000.0,  cash flow rate=0.458520587470538,  interest-bearing debt interest rate=0.00079007900790079,  tax rate (A)=0.0,  per Net Share Value (B)=0.177910749652353,  Net Value Per Share (A)=0.177910749652353,  Net Value Per Share (C)=0.193712865028865,  Persistent EPS in the Last Four Seasons=0.180580504869056,  Cash Flow Per Share=0.30710193110278,  Revenue Per Share (Yuan)=0.00594400834883616,  Operating Profit Per Share (Yuan)=0.0923377575116033,  Per Share Net profit before tax (yuan)=0.142803344128945,  realized sales gross profit growth rate=0.0227600967722855,  operating profit growth rate=0.84809401283004,  after-tax net profit growth rate=0.689462676951537,  regular net profit growth rate=0.689469659564714,  continuous net profit growth rate=0.217601298963609,  total asset growth rate=7280000000.0,  net value growth rate=0.000396425314703456,  total asset return growth rate Ratio=0.264183975569387,  cash reinvestment %=0.368913229760441,  current ratio=0.0115425536893801,  quick ratio=0.00534756022243655,  interest expense ratio=0.629631443404885,  total debt/total net worth=0.0212476860084444,  debt ratio %=0.207515796474892,  net worth/assets=0.792484203525108,  long-term fund suitability ratio (A)=0.00509989941357539,  borrowing dependency=0.379092920106557,  contingent liabilities/net worth=0.00656198206103149,  Operating profit/paid-in capital=0.0923184653215431,  net profit before tax/paid-in capital=0.148035593092527,  inventory and accounts receivable/net value=0.406580451031118,  total asset turnover=0.0149925037481259,  accounts receivable turnover=0.00149533848011119,  average collection days=0.00422684946011605,  inventory turnover rate (times)=65000000.0,  fixed assets Turnover frequency=2650000000.0,  net worth turnover rate (times)=0.0133870967741935,  revenue per person=0.0289969595934374,  operating profit per person=0.381967843332353,  allocation rate per person=0.141016311871331,  working capital to total assets=0.829501914934622, Quick asset/Total asset=0.340200878481779, current assets/total assets=0.602805701668708, cash / total assets=0.000990944451124824, Quick asset /current liabilities=0.00630248138254708, cash / current liability=5340000000.0, current liability to assets=0.0981620645437837, operating funds to liability=0.33673149472, Inventory/working capital=0.277455528130626, Inventory/current liability=0.0138787857963224, current liability / liability=0.446027487157575, working capital/equity=0.742728637603645, current liability/equity=0.334776851319847, long-term liability to current assets=0.00371511569336923, Retained Earnings/Total assets=0.90990336247412, total income / total expense=0.00206007064952466, total expense /assets=0.0213874282332057,  current asset turnover rate=0.00179109370019098,  quick asset turnover rate=0.00102267647190207,  working capitcal turnover rate=0.594501851296042,  cash turnover rate=761000000.0,  Cash flow to Sales=0.671571321761166,  fix assets to assets=0.276179222234543,  current liability to liability=0.446027487157575, current liability to equity=0.334776851319847, equity to long-term liability=0.117922319423666, Cash flow to total assets=0.642764550242219, cash flow to liability=0.459254035544147, CFO to ASSETS=0.538490539586983, cash flow to equity=0.31451542627367, current liabilities to current assets=0.0253464891288078, one if total liabilities exceeds total assets zero otherwise=0, net income to total assets=0.774669696989803, total assets to GNP price=0.0400028528527523, No-credit interval=0.623841037589316, Gross profit to Sales=0.601449340486212, Net income to stockholder's Equity=0.836774308550174, liability to equity=0.290188532942043, Degree of financial leverage (DFL)=0.0265547199199004, Interest coverage ratio( Interest expense to EBIT )=0.563706076496047, one if net income was negative for the last two year zero otherwise=1, equity to liability=0.0164741143272785),\n",
       " Row(Bankrupt?=1,  ROA(C) before interest and depreciation before interest=0.399844001364988,  ROA(A) before interest and % after tax=0.451264718709115,  ROA(B) before interest and depreciation after tax=0.457733283366347,  operating gross margin=0.583541129160121,  realized sales gross margin=0.583541129160121,  operating profit rate=0.998699747067122,  tax Pre-net interest rate=0.796966968308828,  after-tax net interest rate=0.808965597694361,  non-industry income and expenditure/revenue=0.303349536022685,  continuous interest rate (after tax)=0.781240991205311,  operating expense rate=0.00010788884881442,  research and development expense rate=0.0,  cash flow rate=0.465705442741753,  interest-bearing debt interest rate=0.000449044904490449,  tax rate (A)=0.0,  per Net Share Value (B)=0.154186507100417,  Net Value Per Share (A)=0.154186507100417,  Net Value Per Share (C)=0.154186507100417,  Persistent EPS in the Last Four Seasons=0.193722227474709,  Cash Flow Per Share=0.321673622409281,  Revenue Per Share (Yuan)=0.0143684680188151,  Operating Profit Per Share (Yuan)=0.0777623971989252,  Per Share Net profit before tax (yuan)=0.148602847028696,  realized sales gross profit growth rate=0.0220460668531945,  operating profit growth rate=0.8480054773865,  after-tax net profit growth rate=0.689109535618137,  regular net profit growth rate=0.689109535618137,  continuous net profit growth rate=0.217568188277463,  total asset growth rate=4880000000.0,  net value growth rate=0.000382425906321948,  total asset return growth rate Ratio=0.263371175917508,  cash reinvestment %=0.384076599232517,  current ratio=0.004194058676884,  quick ratio=0.00289649114708036,  interest expense ratio=0.63022835303626,  total debt/total net worth=0.00957240171805324,  debt ratio %=0.151464764035432,  net worth/assets=0.848535235964567,  long-term fund suitability ratio (A)=0.00504692406346464,  borrowing dependency=0.379742687599394,  contingent liabilities/net worth=0.00536584771375646,  Operating profit/paid-in capital=0.0777272949338023,  net profit before tax/paid-in capital=0.147560515798205,  inventory and accounts receivable/net value=0.397924501254651,  total asset turnover=0.0899550224887556,  accounts receivable turnover=0.00196605561360616,  average collection days=0.00321496731663372,  inventory turnover rate (times)=7130000000.0,  fixed assets Turnover frequency=9150000000.0,  net worth turnover rate (times)=0.0280645161290323,  revenue per person=0.015463478401363,  operating profit per person=0.378496641866986,  allocation rate per person=0.0213199897441037,  working capital to total assets=0.725754179688242, Quick asset/Total asset=0.161574531573533, current assets/total assets=0.225814868882578, cash / total assets=0.0188506248270314, Quick asset /current liabilities=0.00296123765013862, cash / current liability=0.00101064643157612, current liability to assets=0.0987146304496934, operating funds to liability=0.348716438967482, Inventory/working capital=0.276580304232685, Inventory/current liability=0.00354014789619415, current liability / liability=0.615848368585853, working capital/equity=0.729824908743367, current liability/equity=0.33150897867186, long-term liability to current assets=0.0221651997451294, Retained Earnings/Total assets=0.906902158837211, total income / total expense=0.00183135855551016, total expense /assets=0.0241610701740241,  current asset turnover rate=8140000000.0,  quick asset turnover rate=6050000000.0,  working capitcal turnover rate=0.593888792576566,  cash turnover rate=2030000000.0,  Cash flow to Sales=0.671519170200148,  fix assets to assets=0.559143963323496,  current liability to liability=0.615848368585853, current liability to equity=0.33150897867186, equity to long-term liability=0.12076045528683, Cash flow to total assets=0.579039312335715, cash flow to liability=0.448517911623987, CFO to ASSETS=0.604105056187593, cash flow to equity=0.302382254833178, current liabilities to current assets=0.0672496172630687, one if total liabilities exceeds total assets zero otherwise=0, net income to total assets=0.739554525158061, total assets to GNP price=0.00325247529112739, No-credit interval=0.622928709143491, Gross profit to Sales=0.583537612244893, Net income to stockholder's Equity=0.834697106753341, liability to equity=0.281721192981814, Degree of financial leverage (DFL)=0.0266966344214761, Interest coverage ratio( Interest expense to EBIT )=0.564663420271241, one if net income was negative for the last two year zero otherwise=1, equity to liability=0.0239823322073886),\n",
       " Row(Bankrupt?=1,  ROA(C) before interest and depreciation before interest=0.465022181055916,  ROA(A) before interest and % after tax=0.538432184910597,  ROA(B) before interest and depreciation after tax=0.522297767546443,  operating gross margin=0.598783493564335,  realized sales gross margin=0.598783493564335,  operating profit rate=0.998973131803565,  tax Pre-net interest rate=0.797366080550396,  after-tax net interest rate=0.809303720206941,  non-industry income and expenditure/revenue=0.303474977757658,  continuous interest rate (after tax)=0.781550044617657,  operating expense rate=7890000000.0,  research and development expense rate=0.0,  cash flow rate=0.462746282177097,  interest-bearing debt interest rate=0.000686068606860686,  tax rate (A)=0.0,  per Net Share Value (B)=0.167502422991024,  Net Value Per Share (A)=0.167502422991024,  Net Value Per Share (C)=0.167502422991024,  Persistent EPS in the Last Four Seasons=0.212536636097192,  Cash Flow Per Share=0.319162481431704,  Revenue Per Share (Yuan)=0.0296897923378254,  Operating Profit Per Share (Yuan)=0.0968976467714356,  Per Share Net profit before tax (yuan)=0.168411538751224,  realized sales gross profit growth rate=0.0220959097225217,  operating profit growth rate=0.848258202198295,  after-tax net profit growth rate=0.689696883030727,  regular net profit growth rate=0.689696883030727,  continuous net profit growth rate=0.217625639200419,  total asset growth rate=5510000000.0,  net value growth rate=0.000438947581872957,  total asset return growth rate Ratio=0.265218235929474,  cash reinvestment %=0.379689653887709,  current ratio=0.00602244610781246,  quick ratio=0.00372744660861623,  interest expense ratio=0.636054985548143,  total debt/total net worth=0.00514960012402083,  debt ratio %=0.106509054630105,  net worth/assets=0.893490945369894,  long-term fund suitability ratio (A)=0.00530331919628413,  borrowing dependency=0.375025442703033,  contingent liabilities/net worth=0.00662352539728966,  Operating profit/paid-in capital=0.0969270604328497,  net profit before tax/paid-in capital=0.167460975793681,  inventory and accounts receivable/net value=0.400078775707608,  total asset turnover=0.175412293853073,  accounts receivable turnover=0.00144867255739401,  average collection days=0.00436689053313807,  inventory turnover rate (times)=0.000163367440506068,  fixed assets Turnover frequency=0.000293521126334367,  net worth turnover rate (times)=0.0401612903225807,  revenue per person=0.0581114228221436,  operating profit per person=0.39437145247733,  allocation rate per person=0.0239882116504549,  working capital to total assets=0.751822452472965, Quick asset/Total asset=0.260329881066954, current assets/total assets=0.358380159768393, cash / total assets=0.0141609737513009, Quick asset /current liabilities=0.00427477087039252, cash / current liability=0.000680463559654079, current liability to assets=0.110194845896651, operating funds to liability=0.344638753643605, Inventory/working capital=0.287912652687691, Inventory/current liability=0.0048685702885864, current liability / liability=0.975006616109995, working capital/equity=0.731999641010921, current liability/equity=0.33072631939891, long-term liability to current assets=0.0, Retained Earnings/Total assets=0.91385019745186, total income / total expense=0.00222393003478029, total expense /assets=0.0263852456518637,  current asset turnover rate=6680000000.0,  quick asset turnover rate=5050000000.0,  working capitcal turnover rate=0.59391526090563,  cash turnover rate=824000000.0,  Cash flow to Sales=0.67156305250703,  fix assets to assets=0.309554916594047,  current liability to liability=0.975006616109995, current liability to equity=0.33072631939891, equity to long-term liability=0.110933233663468, Cash flow to total assets=0.622374074998875, cash flow to liability=0.454410931919338, CFO to ASSETS=0.578468903211134, cash flow to equity=0.311567160524111, current liabilities to current assets=0.0477253717624306, one if total liabilities exceeds total assets zero otherwise=0, net income to total assets=0.79501587263578, total assets to GNP price=0.00387756309380024, No-credit interval=0.623520697668313, Gross profit to Sales=0.598781509888099, Net income to stockholder's Equity=0.839972745788203, liability to equity=0.278513789880418, Degree of financial leverage (DFL)=0.0247518480523254, Interest coverage ratio( Interest expense to EBIT )=0.575616645216918, one if net income was negative for the last two year zero otherwise=1, equity to liability=0.0354902008836198)]"
      ]
     },
     "execution_count": 5,
     "metadata": {},
     "output_type": "execute_result"
    }
   ],
   "source": [
    "df.take(5)"
   ]
  },
  {
   "cell_type": "code",
   "execution_count": 6,
   "metadata": {},
   "outputs": [
    {
     "data": {
      "text/plain": [
       "6819"
      ]
     },
     "execution_count": 6,
     "metadata": {},
     "output_type": "execute_result"
    }
   ],
   "source": [
    "df.count()"
   ]
  },
  {
   "cell_type": "markdown",
   "metadata": {},
   "source": [
    "#### Data wrangling "
   ]
  },
  {
   "cell_type": "markdown",
   "metadata": {},
   "source": [
    "Checking for Missing/Null values "
   ]
  },
  {
   "cell_type": "code",
   "execution_count": 7,
   "metadata": {},
   "outputs": [
    {
     "name": "stdout",
     "output_type": "stream",
     "text": [
      "+---------+--------------------------------------------------------+---------------------------------------+--------------------------------------------------+-----------------------+----------------------------+----------------------+--------------------------+----------------------------+--------------------------------------------+-------------------------------------+-----------------------+--------------------------------------+---------------+------------------------------------+-------------+------------------------+------------------------+------------------------+----------------------------------------+--------------------+-------------------------+----------------------------------+---------------------------------------+----------------------------------------+-----------------------------+---------------------------------+-------------------------------+----------------------------------+------------------------+----------------------+-------------------------------------+--------------------+--------------+------------+-----------------------+---------------------------+-------------+-----------------+-------------------------------------+---------------------+---------------------------------+---------------------------------+--------------------------------------+--------------------------------------------+---------------------+-----------------------------+------------------------+--------------------------------+--------------------------------+--------------------------------+-------------------+----------------------------+---------------------------+--------------------------------+-----------------------+---------------------------+-------------------+--------------------------------+------------------------+---------------------------+----------------------------+-------------------------+---------------------------+-----------------------------+----------------------+------------------------+-------------------------------------+------------------------------+----------------------------+---------------------+----------------------------+--------------------------+-------------------------------+-------------------+-------------------+---------------------+-------------------------------+---------------------------+-----------------------------+-------------------------+----------------------+-------------+-------------------+-------------------------------------+------------------------------------------------------------+--------------------------+-------------------------+------------------+---------------------+----------------------------------+-------------------+----------------------------------+---------------------------------------------------+-------------------------------------------------------------------+-------------------+\n",
      "|Bankrupt?| ROA(C) before interest and depreciation before interest| ROA(A) before interest and % after tax| ROA(B) before interest and depreciation after tax| operating gross margin| realized sales gross margin| operating profit rate| tax Pre-net interest rate| after-tax net interest rate| non-industry income and expenditure/revenue| continuous interest rate (after tax)| operating expense rate| research and development expense rate| cash flow rate| interest-bearing debt interest rate| tax rate (A)| per Net Share Value (B)| Net Value Per Share (A)| Net Value Per Share (C)| Persistent EPS in the Last Four Seasons| Cash Flow Per Share| Revenue Per Share (Yuan)| Operating Profit Per Share (Yuan)| Per Share Net profit before tax (yuan)| realized sales gross profit growth rate| operating profit growth rate| after-tax net profit growth rate| regular net profit growth rate| continuous net profit growth rate| total asset growth rate| net value growth rate| total asset return growth rate Ratio| cash reinvestment %| current ratio| quick ratio| interest expense ratio| total debt/total net worth| debt ratio %| net worth/assets| long-term fund suitability ratio (A)| borrowing dependency| contingent liabilities/net worth| Operating profit/paid-in capital| net profit before tax/paid-in capital| inventory and accounts receivable/net value| total asset turnover| accounts receivable turnover| average collection days| inventory turnover rate (times)| fixed assets Turnover frequency| net worth turnover rate (times)| revenue per person| operating profit per person| allocation rate per person| working capital to total assets|Quick asset/Total asset|current assets/total assets|cash / total assets|Quick asset /current liabilities|cash / current liability|current liability to assets|operating funds to liability|Inventory/working capital|Inventory/current liability|current liability / liability|working capital/equity|current liability/equity|long-term liability to current assets|Retained Earnings/Total assets|total income / total expense|total expense /assets| current asset turnover rate| quick asset turnover rate| working capitcal turnover rate| cash turnover rate| Cash flow to Sales| fix assets to assets| current liability to liability|current liability to equity|equity to long-term liability|Cash flow to total assets|cash flow to liability|CFO to ASSETS|cash flow to equity|current liabilities to current assets|one if total liabilities exceeds total assets zero otherwise|net income to total assets|total assets to GNP price|No-credit interval|Gross profit to Sales|Net income to stockholder's Equity|liability to equity|Degree of financial leverage (DFL)|Interest coverage ratio( Interest expense to EBIT )|one if net income was negative for the last two year zero otherwise|equity to liability|\n",
      "+---------+--------------------------------------------------------+---------------------------------------+--------------------------------------------------+-----------------------+----------------------------+----------------------+--------------------------+----------------------------+--------------------------------------------+-------------------------------------+-----------------------+--------------------------------------+---------------+------------------------------------+-------------+------------------------+------------------------+------------------------+----------------------------------------+--------------------+-------------------------+----------------------------------+---------------------------------------+----------------------------------------+-----------------------------+---------------------------------+-------------------------------+----------------------------------+------------------------+----------------------+-------------------------------------+--------------------+--------------+------------+-----------------------+---------------------------+-------------+-----------------+-------------------------------------+---------------------+---------------------------------+---------------------------------+--------------------------------------+--------------------------------------------+---------------------+-----------------------------+------------------------+--------------------------------+--------------------------------+--------------------------------+-------------------+----------------------------+---------------------------+--------------------------------+-----------------------+---------------------------+-------------------+--------------------------------+------------------------+---------------------------+----------------------------+-------------------------+---------------------------+-----------------------------+----------------------+------------------------+-------------------------------------+------------------------------+----------------------------+---------------------+----------------------------+--------------------------+-------------------------------+-------------------+-------------------+---------------------+-------------------------------+---------------------------+-----------------------------+-------------------------+----------------------+-------------+-------------------+-------------------------------------+------------------------------------------------------------+--------------------------+-------------------------+------------------+---------------------+----------------------------------+-------------------+----------------------------------+---------------------------------------------------+-------------------------------------------------------------------+-------------------+\n",
      "|        0|                                                       0|                                      0|                                                 0|                      0|                           0|                     0|                         0|                           0|                                           0|                                    0|                      0|                                     0|              0|                                   0|            0|                       0|                       0|                       0|                                       0|                   0|                        0|                                 0|                                      0|                                       0|                            0|                                0|                              0|                                 0|                       0|                     0|                                    0|                   0|             0|           0|                      0|                          0|            0|                0|                                    0|                    0|                                0|                                0|                                     0|                                           0|                    0|                            0|                       0|                               0|                               0|                               0|                  0|                           0|                          0|                               0|                      0|                          0|                  0|                               0|                       0|                          0|                           0|                        0|                          0|                            0|                     0|                       0|                                    0|                             0|                           0|                    0|                           0|                         0|                              0|                  0|                  0|                    0|                              0|                          0|                            0|                        0|                     0|            0|                  0|                                    0|                                                           0|                         0|                        0|                 0|                    0|                                 0|                  0|                                 0|                                                  0|                                                                  0|                  0|\n",
      "+---------+--------------------------------------------------------+---------------------------------------+--------------------------------------------------+-----------------------+----------------------------+----------------------+--------------------------+----------------------------+--------------------------------------------+-------------------------------------+-----------------------+--------------------------------------+---------------+------------------------------------+-------------+------------------------+------------------------+------------------------+----------------------------------------+--------------------+-------------------------+----------------------------------+---------------------------------------+----------------------------------------+-----------------------------+---------------------------------+-------------------------------+----------------------------------+------------------------+----------------------+-------------------------------------+--------------------+--------------+------------+-----------------------+---------------------------+-------------+-----------------+-------------------------------------+---------------------+---------------------------------+---------------------------------+--------------------------------------+--------------------------------------------+---------------------+-----------------------------+------------------------+--------------------------------+--------------------------------+--------------------------------+-------------------+----------------------------+---------------------------+--------------------------------+-----------------------+---------------------------+-------------------+--------------------------------+------------------------+---------------------------+----------------------------+-------------------------+---------------------------+-----------------------------+----------------------+------------------------+-------------------------------------+------------------------------+----------------------------+---------------------+----------------------------+--------------------------+-------------------------------+-------------------+-------------------+---------------------+-------------------------------+---------------------------+-----------------------------+-------------------------+----------------------+-------------+-------------------+-------------------------------------+------------------------------------------------------------+--------------------------+-------------------------+------------------+---------------------+----------------------------------+-------------------+----------------------------------+---------------------------------------------------+-------------------------------------------------------------------+-------------------+\n",
      "\n"
     ]
    }
   ],
   "source": [
    "df.select([count(when(isnan(c), c)).alias(c) for c in df.columns]).show()"
   ]
  },
  {
   "cell_type": "code",
   "execution_count": 8,
   "metadata": {},
   "outputs": [
    {
     "name": "stdout",
     "output_type": "stream",
     "text": [
      "+---------+--------------------------------------------------------+---------------------------------------+--------------------------------------------------+-----------------------+----------------------------+----------------------+--------------------------+----------------------------+--------------------------------------------+-------------------------------------+-----------------------+--------------------------------------+---------------+------------------------------------+-------------+------------------------+------------------------+------------------------+----------------------------------------+--------------------+-------------------------+----------------------------------+---------------------------------------+----------------------------------------+-----------------------------+---------------------------------+-------------------------------+----------------------------------+------------------------+----------------------+-------------------------------------+--------------------+--------------+------------+-----------------------+---------------------------+-------------+-----------------+-------------------------------------+---------------------+---------------------------------+---------------------------------+--------------------------------------+--------------------------------------------+---------------------+-----------------------------+------------------------+--------------------------------+--------------------------------+--------------------------------+-------------------+----------------------------+---------------------------+--------------------------------+-----------------------+---------------------------+-------------------+--------------------------------+------------------------+---------------------------+----------------------------+-------------------------+---------------------------+-----------------------------+----------------------+------------------------+-------------------------------------+------------------------------+----------------------------+---------------------+----------------------------+--------------------------+-------------------------------+-------------------+-------------------+---------------------+-------------------------------+---------------------------+-----------------------------+-------------------------+----------------------+-------------+-------------------+-------------------------------------+------------------------------------------------------------+--------------------------+-------------------------+------------------+---------------------+----------------------------------+-------------------+----------------------------------+---------------------------------------------------+-------------------------------------------------------------------+-------------------+\n",
      "|Bankrupt?| ROA(C) before interest and depreciation before interest| ROA(A) before interest and % after tax| ROA(B) before interest and depreciation after tax| operating gross margin| realized sales gross margin| operating profit rate| tax Pre-net interest rate| after-tax net interest rate| non-industry income and expenditure/revenue| continuous interest rate (after tax)| operating expense rate| research and development expense rate| cash flow rate| interest-bearing debt interest rate| tax rate (A)| per Net Share Value (B)| Net Value Per Share (A)| Net Value Per Share (C)| Persistent EPS in the Last Four Seasons| Cash Flow Per Share| Revenue Per Share (Yuan)| Operating Profit Per Share (Yuan)| Per Share Net profit before tax (yuan)| realized sales gross profit growth rate| operating profit growth rate| after-tax net profit growth rate| regular net profit growth rate| continuous net profit growth rate| total asset growth rate| net value growth rate| total asset return growth rate Ratio| cash reinvestment %| current ratio| quick ratio| interest expense ratio| total debt/total net worth| debt ratio %| net worth/assets| long-term fund suitability ratio (A)| borrowing dependency| contingent liabilities/net worth| Operating profit/paid-in capital| net profit before tax/paid-in capital| inventory and accounts receivable/net value| total asset turnover| accounts receivable turnover| average collection days| inventory turnover rate (times)| fixed assets Turnover frequency| net worth turnover rate (times)| revenue per person| operating profit per person| allocation rate per person| working capital to total assets|Quick asset/Total asset|current assets/total assets|cash / total assets|Quick asset /current liabilities|cash / current liability|current liability to assets|operating funds to liability|Inventory/working capital|Inventory/current liability|current liability / liability|working capital/equity|current liability/equity|long-term liability to current assets|Retained Earnings/Total assets|total income / total expense|total expense /assets| current asset turnover rate| quick asset turnover rate| working capitcal turnover rate| cash turnover rate| Cash flow to Sales| fix assets to assets| current liability to liability|current liability to equity|equity to long-term liability|Cash flow to total assets|cash flow to liability|CFO to ASSETS|cash flow to equity|current liabilities to current assets|one if total liabilities exceeds total assets zero otherwise|net income to total assets|total assets to GNP price|No-credit interval|Gross profit to Sales|Net income to stockholder's Equity|liability to equity|Degree of financial leverage (DFL)|Interest coverage ratio( Interest expense to EBIT )|one if net income was negative for the last two year zero otherwise|equity to liability|\n",
      "+---------+--------------------------------------------------------+---------------------------------------+--------------------------------------------------+-----------------------+----------------------------+----------------------+--------------------------+----------------------------+--------------------------------------------+-------------------------------------+-----------------------+--------------------------------------+---------------+------------------------------------+-------------+------------------------+------------------------+------------------------+----------------------------------------+--------------------+-------------------------+----------------------------------+---------------------------------------+----------------------------------------+-----------------------------+---------------------------------+-------------------------------+----------------------------------+------------------------+----------------------+-------------------------------------+--------------------+--------------+------------+-----------------------+---------------------------+-------------+-----------------+-------------------------------------+---------------------+---------------------------------+---------------------------------+--------------------------------------+--------------------------------------------+---------------------+-----------------------------+------------------------+--------------------------------+--------------------------------+--------------------------------+-------------------+----------------------------+---------------------------+--------------------------------+-----------------------+---------------------------+-------------------+--------------------------------+------------------------+---------------------------+----------------------------+-------------------------+---------------------------+-----------------------------+----------------------+------------------------+-------------------------------------+------------------------------+----------------------------+---------------------+----------------------------+--------------------------+-------------------------------+-------------------+-------------------+---------------------+-------------------------------+---------------------------+-----------------------------+-------------------------+----------------------+-------------+-------------------+-------------------------------------+------------------------------------------------------------+--------------------------+-------------------------+------------------+---------------------+----------------------------------+-------------------+----------------------------------+---------------------------------------------------+-------------------------------------------------------------------+-------------------+\n",
      "|        0|                                                       0|                                      0|                                                 0|                      0|                           0|                     0|                         0|                           0|                                           0|                                    0|                      0|                                     0|              0|                                   0|            0|                       0|                       0|                       0|                                       0|                   0|                        0|                                 0|                                      0|                                       0|                            0|                                0|                              0|                                 0|                       0|                     0|                                    0|                   0|             0|           0|                      0|                          0|            0|                0|                                    0|                    0|                                0|                                0|                                     0|                                           0|                    0|                            0|                       0|                               0|                               0|                               0|                  0|                           0|                          0|                               0|                      0|                          0|                  0|                               0|                       0|                          0|                           0|                        0|                          0|                            0|                     0|                       0|                                    0|                             0|                           0|                    0|                           0|                         0|                              0|                  0|                  0|                    0|                              0|                          0|                            0|                        0|                     0|            0|                  0|                                    0|                                                           0|                         0|                        0|                 0|                    0|                                 0|                  0|                                 0|                                                  0|                                                                  0|                  0|\n",
      "+---------+--------------------------------------------------------+---------------------------------------+--------------------------------------------------+-----------------------+----------------------------+----------------------+--------------------------+----------------------------+--------------------------------------------+-------------------------------------+-----------------------+--------------------------------------+---------------+------------------------------------+-------------+------------------------+------------------------+------------------------+----------------------------------------+--------------------+-------------------------+----------------------------------+---------------------------------------+----------------------------------------+-----------------------------+---------------------------------+-------------------------------+----------------------------------+------------------------+----------------------+-------------------------------------+--------------------+--------------+------------+-----------------------+---------------------------+-------------+-----------------+-------------------------------------+---------------------+---------------------------------+---------------------------------+--------------------------------------+--------------------------------------------+---------------------+-----------------------------+------------------------+--------------------------------+--------------------------------+--------------------------------+-------------------+----------------------------+---------------------------+--------------------------------+-----------------------+---------------------------+-------------------+--------------------------------+------------------------+---------------------------+----------------------------+-------------------------+---------------------------+-----------------------------+----------------------+------------------------+-------------------------------------+------------------------------+----------------------------+---------------------+----------------------------+--------------------------+-------------------------------+-------------------+-------------------+---------------------+-------------------------------+---------------------------+-----------------------------+-------------------------+----------------------+-------------+-------------------+-------------------------------------+------------------------------------------------------------+--------------------------+-------------------------+------------------+---------------------+----------------------------------+-------------------+----------------------------------+---------------------------------------------------+-------------------------------------------------------------------+-------------------+\n",
      "\n"
     ]
    }
   ],
   "source": [
    "df.select([count(when(col(c).isNull(), c)).alias(c) for c in df.columns]).show()"
   ]
  },
  {
   "cell_type": "markdown",
   "metadata": {},
   "source": [
    "#### Logistic regression "
   ]
  },
  {
   "cell_type": "markdown",
   "metadata": {},
   "source": [
    "create feature vector "
   ]
  },
  {
   "cell_type": "code",
   "execution_count": 9,
   "metadata": {},
   "outputs": [
    {
     "data": {
      "text/plain": [
       "['Bankrupt?',\n",
       " ' ROA(C) before interest and depreciation before interest',\n",
       " ' ROA(A) before interest and % after tax',\n",
       " ' ROA(B) before interest and depreciation after tax',\n",
       " ' operating gross margin',\n",
       " ' realized sales gross margin',\n",
       " ' operating profit rate',\n",
       " ' tax Pre-net interest rate',\n",
       " ' after-tax net interest rate',\n",
       " ' non-industry income and expenditure/revenue',\n",
       " ' continuous interest rate (after tax)',\n",
       " ' operating expense rate',\n",
       " ' research and development expense rate',\n",
       " ' cash flow rate',\n",
       " ' interest-bearing debt interest rate',\n",
       " ' tax rate (A)',\n",
       " ' per Net Share Value (B)',\n",
       " ' Net Value Per Share (A)',\n",
       " ' Net Value Per Share (C)',\n",
       " ' Persistent EPS in the Last Four Seasons',\n",
       " ' Cash Flow Per Share',\n",
       " ' Revenue Per Share (Yuan)',\n",
       " ' Operating Profit Per Share (Yuan)',\n",
       " ' Per Share Net profit before tax (yuan)',\n",
       " ' realized sales gross profit growth rate',\n",
       " ' operating profit growth rate',\n",
       " ' after-tax net profit growth rate',\n",
       " ' regular net profit growth rate',\n",
       " ' continuous net profit growth rate',\n",
       " ' total asset growth rate',\n",
       " ' net value growth rate',\n",
       " ' total asset return growth rate Ratio',\n",
       " ' cash reinvestment %',\n",
       " ' current ratio',\n",
       " ' quick ratio',\n",
       " ' interest expense ratio',\n",
       " ' total debt/total net worth',\n",
       " ' debt ratio %',\n",
       " ' net worth/assets',\n",
       " ' long-term fund suitability ratio (A)',\n",
       " ' borrowing dependency',\n",
       " ' contingent liabilities/net worth',\n",
       " ' Operating profit/paid-in capital',\n",
       " ' net profit before tax/paid-in capital',\n",
       " ' inventory and accounts receivable/net value',\n",
       " ' total asset turnover',\n",
       " ' accounts receivable turnover',\n",
       " ' average collection days',\n",
       " ' inventory turnover rate (times)',\n",
       " ' fixed assets Turnover frequency',\n",
       " ' net worth turnover rate (times)',\n",
       " ' revenue per person',\n",
       " ' operating profit per person',\n",
       " ' allocation rate per person',\n",
       " ' working capital to total assets',\n",
       " 'Quick asset/Total asset',\n",
       " 'current assets/total assets',\n",
       " 'cash / total assets',\n",
       " 'Quick asset /current liabilities',\n",
       " 'cash / current liability',\n",
       " 'current liability to assets',\n",
       " 'operating funds to liability',\n",
       " 'Inventory/working capital',\n",
       " 'Inventory/current liability',\n",
       " 'current liability / liability',\n",
       " 'working capital/equity',\n",
       " 'current liability/equity',\n",
       " 'long-term liability to current assets',\n",
       " 'Retained Earnings/Total assets',\n",
       " 'total income / total expense',\n",
       " 'total expense /assets',\n",
       " ' current asset turnover rate',\n",
       " ' quick asset turnover rate',\n",
       " ' working capitcal turnover rate',\n",
       " ' cash turnover rate',\n",
       " ' Cash flow to Sales',\n",
       " ' fix assets to assets',\n",
       " ' current liability to liability',\n",
       " 'current liability to equity',\n",
       " 'equity to long-term liability',\n",
       " 'Cash flow to total assets',\n",
       " 'cash flow to liability',\n",
       " 'CFO to ASSETS',\n",
       " 'cash flow to equity',\n",
       " 'current liabilities to current assets',\n",
       " 'one if total liabilities exceeds total assets zero otherwise',\n",
       " 'net income to total assets',\n",
       " 'total assets to GNP price',\n",
       " 'No-credit interval',\n",
       " 'Gross profit to Sales',\n",
       " \"Net income to stockholder's Equity\",\n",
       " 'liability to equity',\n",
       " 'Degree of financial leverage (DFL)',\n",
       " 'Interest coverage ratio( Interest expense to EBIT )',\n",
       " 'one if net income was negative for the last two year zero otherwise',\n",
       " 'equity to liability']"
      ]
     },
     "execution_count": 9,
     "metadata": {},
     "output_type": "execute_result"
    }
   ],
   "source": [
    "df.columns"
   ]
  },
  {
   "cell_type": "code",
   "execution_count": 10,
   "metadata": {},
   "outputs": [],
   "source": [
    "from pyspark.ml.linalg import Vector\n",
    "from pyspark.ml.feature import VectorAssembler\n"
   ]
  },
  {
   "cell_type": "code",
   "execution_count": 11,
   "metadata": {},
   "outputs": [],
   "source": [
    "asembler = VectorAssembler(inputCols=[' ROA(C) before interest and depreciation before interest',\n",
    " ' ROA(A) before interest and % after tax',\n",
    " ' ROA(B) before interest and depreciation after tax',\n",
    " ' operating gross margin',\n",
    " ' realized sales gross margin',\n",
    " ' operating profit rate',\n",
    " ' tax Pre-net interest rate',\n",
    " ' after-tax net interest rate',\n",
    " ' non-industry income and expenditure/revenue',\n",
    " ' continuous interest rate (after tax)',\n",
    " ' operating expense rate',\n",
    " ' research and development expense rate',\n",
    " ' cash flow rate',\n",
    " ' interest-bearing debt interest rate',\n",
    " ' tax rate (A)',\n",
    " ' per Net Share Value (B)',\n",
    " ' Net Value Per Share (A)',\n",
    " ' Net Value Per Share (C)',\n",
    " ' Persistent EPS in the Last Four Seasons',\n",
    " ' Cash Flow Per Share',\n",
    " ' Revenue Per Share (Yuan)',\n",
    " ' Operating Profit Per Share (Yuan)',\n",
    " ' Per Share Net profit before tax (yuan)',\n",
    " ' realized sales gross profit growth rate',\n",
    " ' operating profit growth rate',\n",
    " ' after-tax net profit growth rate',\n",
    " ' regular net profit growth rate',\n",
    " ' continuous net profit growth rate',\n",
    " ' total asset growth rate',\n",
    " ' net value growth rate',\n",
    " ' total asset return growth rate Ratio',\n",
    " ' cash reinvestment %',\n",
    " ' current ratio',\n",
    " ' quick ratio',\n",
    " ' interest expense ratio',\n",
    " ' total debt/total net worth',\n",
    " ' debt ratio %',\n",
    " ' net worth/assets',\n",
    " ' long-term fund suitability ratio (A)',\n",
    " ' borrowing dependency',\n",
    " ' contingent liabilities/net worth',\n",
    " ' Operating profit/paid-in capital',\n",
    " ' net profit before tax/paid-in capital',\n",
    " ' inventory and accounts receivable/net value',\n",
    " ' total asset turnover',\n",
    " ' accounts receivable turnover',\n",
    " ' average collection days',\n",
    " ' inventory turnover rate (times)',\n",
    " ' fixed assets Turnover frequency',\n",
    " ' net worth turnover rate (times)',\n",
    " ' revenue per person',\n",
    " ' operating profit per person',\n",
    " ' allocation rate per person',\n",
    " ' working capital to total assets',\n",
    " 'Quick asset/Total asset',\n",
    " 'current assets/total assets',\n",
    " 'cash / total assets',\n",
    " 'Quick asset /current liabilities',\n",
    " 'cash / current liability',\n",
    " 'current liability to assets',\n",
    " 'operating funds to liability',\n",
    " 'Inventory/working capital',\n",
    " 'Inventory/current liability',\n",
    " 'current liability / liability',\n",
    " 'working capital/equity',\n",
    " 'current liability/equity',\n",
    " 'long-term liability to current assets',\n",
    " 'Retained Earnings/Total assets',\n",
    " 'total income / total expense',\n",
    " 'total expense /assets',\n",
    " ' current asset turnover rate',\n",
    " ' quick asset turnover rate',\n",
    " ' working capitcal turnover rate',\n",
    " ' cash turnover rate',\n",
    " ' Cash flow to Sales',\n",
    " ' fix assets to assets',\n",
    " ' current liability to liability',\n",
    " 'current liability to equity',\n",
    " 'equity to long-term liability',\n",
    " 'Cash flow to total assets',\n",
    " 'cash flow to liability',\n",
    " 'CFO to ASSETS',\n",
    " 'cash flow to equity',\n",
    " 'current liabilities to current assets',\n",
    " 'one if total liabilities exceeds total assets zero otherwise',\n",
    " 'net income to total assets',\n",
    " 'total assets to GNP price',\n",
    " 'No-credit interval',\n",
    " 'Gross profit to Sales',\n",
    " \"Net income to stockholder's Equity\",\n",
    " 'liability to equity',\n",
    " 'Degree of financial leverage (DFL)',\n",
    " 'Interest coverage ratio( Interest expense to EBIT )',\n",
    " 'one if net income was negative for the last two year zero otherwise',\n",
    " 'equity to liability'], outputCol='features')"
   ]
  },
  {
   "cell_type": "code",
   "execution_count": 12,
   "metadata": {},
   "outputs": [],
   "source": [
    "datatransformed = asembler.transform(df)"
   ]
  },
  {
   "cell_type": "code",
   "execution_count": 13,
   "metadata": {},
   "outputs": [
    {
     "name": "stdout",
     "output_type": "stream",
     "text": [
      "+--------------------+\n",
      "|            features|\n",
      "+--------------------+\n",
      "|[0.37059425730024...|\n",
      "|[0.46429093745429...|\n",
      "|[0.42607127187637...|\n",
      "|[0.39984400136498...|\n",
      "|[0.46502218105591...|\n",
      "|[0.38868034904694...|\n",
      "|[0.39092282942524...|\n",
      "|[0.50836055184517...|\n",
      "|[0.48851947545459...|\n",
      "|[0.49568566275045...|\n",
      "|[0.48247452834787...|\n",
      "|[0.44440111149027...|\n",
      "|[0.49115195242041...|\n",
      "|[0.47404085214254...|\n",
      "|[0.50670306634816...|\n",
      "|[0.51382050407058...|\n",
      "|[0.48890947204212...|\n",
      "|[0.53595281041290...|\n",
      "|[0.50407058938234...|\n",
      "|[0.48739823526544...|\n",
      "+--------------------+\n",
      "only showing top 20 rows\n",
      "\n"
     ]
    }
   ],
   "source": [
    "datatransformed.select('features').show()"
   ]
  },
  {
   "cell_type": "code",
   "execution_count": 14,
   "metadata": {},
   "outputs": [],
   "source": [
    "final_dataset = datatransformed.select('features', 'Bankrupt?')"
   ]
  },
  {
   "cell_type": "markdown",
   "metadata": {},
   "source": [
    "our final dataset is composed of two columns one is the features and the other one is the label, that is the way spark handle data"
   ]
  },
  {
   "cell_type": "code",
   "execution_count": 15,
   "metadata": {},
   "outputs": [
    {
     "name": "stdout",
     "output_type": "stream",
     "text": [
      "+--------------------+---------+\n",
      "|            features|Bankrupt?|\n",
      "+--------------------+---------+\n",
      "|[0.37059425730024...|        1|\n",
      "|[0.46429093745429...|        1|\n",
      "|[0.42607127187637...|        1|\n",
      "|[0.39984400136498...|        1|\n",
      "|[0.46502218105591...|        1|\n",
      "|[0.38868034904694...|        1|\n",
      "|[0.39092282942524...|        0|\n",
      "|[0.50836055184517...|        0|\n",
      "|[0.48851947545459...|        0|\n",
      "|[0.49568566275045...|        0|\n",
      "|[0.48247452834787...|        0|\n",
      "|[0.44440111149027...|        0|\n",
      "|[0.49115195242041...|        0|\n",
      "|[0.47404085214254...|        0|\n",
      "|[0.50670306634816...|        0|\n",
      "|[0.51382050407058...|        0|\n",
      "|[0.48890947204212...|        0|\n",
      "|[0.53595281041290...|        0|\n",
      "|[0.50407058938234...|        0|\n",
      "|[0.48739823526544...|        0|\n",
      "+--------------------+---------+\n",
      "only showing top 20 rows\n",
      "\n"
     ]
    }
   ],
   "source": [
    "final_dataset.show()"
   ]
  },
  {
   "cell_type": "markdown",
   "metadata": {},
   "source": [
    "let's split our dataset into training/test datasets"
   ]
  },
  {
   "cell_type": "code",
   "execution_count": 16,
   "metadata": {},
   "outputs": [],
   "source": [
    "train_ds, test_ds = final_dataset.randomSplit([0.7, 0.3])"
   ]
  },
  {
   "cell_type": "code",
   "execution_count": 17,
   "metadata": {},
   "outputs": [
    {
     "name": "stdout",
     "output_type": "stream",
     "text": [
      "+-------+-------------------+\n",
      "|summary|          Bankrupt?|\n",
      "+-------+-------------------+\n",
      "|  count|               4802|\n",
      "|   mean|0.02936276551436901|\n",
      "| stddev|0.16883876895612288|\n",
      "|    min|                  0|\n",
      "|    max|                  1|\n",
      "+-------+-------------------+\n",
      "\n",
      "+-------+--------------------+\n",
      "|summary|           Bankrupt?|\n",
      "+-------+--------------------+\n",
      "|  count|                2017|\n",
      "|   mean|0.039167079821517105|\n",
      "| stddev|  0.1940404258195499|\n",
      "|    min|                   0|\n",
      "|    max|                   1|\n",
      "+-------+--------------------+\n",
      "\n"
     ]
    }
   ],
   "source": [
    "train_ds.describe().show()\n",
    "test_ds.describe().show()"
   ]
  },
  {
   "cell_type": "markdown",
   "metadata": {},
   "source": [
    "Let's create our logistic regression model "
   ]
  },
  {
   "cell_type": "code",
   "execution_count": 18,
   "metadata": {},
   "outputs": [],
   "source": [
    "model = LogisticRegression(labelCol='Bankrupt?')"
   ]
  },
  {
   "cell_type": "markdown",
   "metadata": {},
   "source": [
    "Model created ! Let's fit our model to the data "
   ]
  },
  {
   "cell_type": "code",
   "execution_count": 19,
   "metadata": {},
   "outputs": [],
   "source": [
    "linear_model = model.fit(train_ds)"
   ]
  },
  {
   "cell_type": "code",
   "execution_count": 20,
   "metadata": {},
   "outputs": [],
   "source": [
    "training_summary = linear_model.summary"
   ]
  },
  {
   "cell_type": "code",
   "execution_count": 21,
   "metadata": {},
   "outputs": [
    {
     "name": "stdout",
     "output_type": "stream",
     "text": [
      "+-------+-------------------+--------------------+\n",
      "|summary|          Bankrupt?|          prediction|\n",
      "+-------+-------------------+--------------------+\n",
      "|  count|               4802|                4802|\n",
      "|   mean|0.02936276551436901|0.010828821324448146|\n",
      "| stddev|0.16883876895612288| 0.10350743481958365|\n",
      "|    min|                0.0|                 0.0|\n",
      "|    max|                1.0|                 1.0|\n",
      "+-------+-------------------+--------------------+\n",
      "\n"
     ]
    }
   ],
   "source": [
    "training_summary.predictions.describe().show()"
   ]
  },
  {
   "cell_type": "markdown",
   "metadata": {},
   "source": [
    "Now that our model is created and fited, let's evaluate it "
   ]
  },
  {
   "cell_type": "code",
   "execution_count": 22,
   "metadata": {},
   "outputs": [],
   "source": [
    "from pyspark.ml.evaluation import BinaryClassificationEvaluator"
   ]
  },
  {
   "cell_type": "code",
   "execution_count": 23,
   "metadata": {},
   "outputs": [],
   "source": [
    "test_result = linear_model.evaluate(test_ds)"
   ]
  },
  {
   "cell_type": "code",
   "execution_count": 24,
   "metadata": {},
   "outputs": [
    {
     "name": "stdout",
     "output_type": "stream",
     "text": [
      "+--------------------+---------+--------------------+--------------------+----------+\n",
      "|            features|Bankrupt?|       rawPrediction|         probability|prediction|\n",
      "+--------------------+---------+--------------------+--------------------+----------+\n",
      "|[0.0,0.0069232446...|        0|[-0.6204554980575...|[0.34967786259416...|       1.0|\n",
      "|[0.20816067859406...|        1|[3.98081351168965...|[0.98167175200447...|       0.0|\n",
      "|[0.27772631989470...|        1|[-12.430866647768...|[3.99338769407313...|       1.0|\n",
      "|[0.28031004728708...|        1|[0.35174789129802...|[0.58704137373425...|       0.0|\n",
      "|[0.31131477599571...|        1|[-4.9749622503774...|[0.00686137600285...|       1.0|\n",
      "|[0.32496465655925...|        0|[3.28450120103874...|[0.96389326661998...|       0.0|\n",
      "|[0.33627455759762...|        0|[1.34592396882308...|[0.79346244803858...|       0.0|\n",
      "|[0.33895578413688...|        0|[4.70936914518516...|[0.99107000329686...|       0.0|\n",
      "|[0.34100326622142...|        0|[12.8488877869851...|[0.99999737095636...|       0.0|\n",
      "|[0.34578072441866...|        1|[-0.7136147389043...|[0.32880060757610...|       1.0|\n",
      "|[0.35670062886949...|        1|[1.77539677096548...|[0.85512752918656...|       0.0|\n",
      "|[0.35811436649929...|        0|[2.36282060219817...|[0.91394789695892...|       0.0|\n",
      "|[0.36484180763418...|        0|[-0.9372024488062...|[0.28146578110103...|       1.0|\n",
      "|[0.36708428801248...|        1|[-0.9296956214759...|[0.28298647039067...|       1.0|\n",
      "|[0.36976551455174...|        1|[2.76407301053381...|[0.94070323745597...|       0.0|\n",
      "|[0.37473797104275...|        0|[1.24567580696587...|[0.77655042518109...|       0.0|\n",
      "|[0.37780919416955...|        0|[1.24702419440418...|[0.77678430993337...|       0.0|\n",
      "|[0.38195290791205...|        0|[2.04264670996974...|[0.88520249839657...|       0.0|\n",
      "|[0.38658411738897...|        1|[1.12848673983863...|[0.75555952418551...|       0.0|\n",
      "|[0.38682786525617...|        0|[2.77437565807917...|[0.94127532333487...|       0.0|\n",
      "|[0.38804660459221...|        0|[2.07313483132675...|[0.88826447454078...|       0.0|\n",
      "|[0.38868034904694...|        1|[-1.3622277530591...|[0.20387847259400...|       1.0|\n",
      "|[0.38911909520791...|        0|[1.99805010727972...|[0.88059219969005...|       0.0|\n",
      "|[0.39033783454394...|        0|[4.03545516580449...|[0.98262943836853...|       0.0|\n",
      "|[0.39082533027836...|        1|[2.01711824600669...|[0.88258270067714...|       0.0|\n",
      "|[0.39145907473309...|        0|[2.51860179798536...|[0.92543562994198...|       0.0|\n",
      "|[0.39818651586798...|        0|[4.62023490566702...|[0.99024560364888...|       0.0|\n",
      "|[0.40223273046360...|        0|[1.65316612526591...|[0.83931850229461...|       0.0|\n",
      "|[0.40403646468093...|        1|[172.405084137828...|[1.0,1.3348218492...|       0.0|\n",
      "|[0.40437771169502...|        0|[4.48594203731979...|[0.98885924546646...|       0.0|\n",
      "|[0.40471895870911...|        0|[3.51084470379979...|[0.97099476381172...|       0.0|\n",
      "|[0.40676644079364...|        0|[5.11942929216103...|[0.99405610668880...|       0.0|\n",
      "|[0.40705893823429...|        1|[1.02419796391779...|[0.73578950494732...|       0.0|\n",
      "|[0.40944766733291...|        0|[3.91125359782003...|[0.98037736078312...|       0.0|\n",
      "|[0.41017891093452...|        1|[-0.0067093119715...|[0.49832267829913...|       1.0|\n",
      "|[0.41047140837517...|        0|[4.91158550931678...|[0.99269297715132...|       0.0|\n",
      "|[0.41130015112367...|        1|[0.22607789492782...|[0.55627996623031...|       0.0|\n",
      "|[0.41169014771120...|        0|[1.86989655206705...|[0.86644630722536...|       0.0|\n",
      "|[0.41217764344562...|        0|[-0.4027207411186...|[0.40065882847068...|       1.0|\n",
      "|[0.41471262126456...|        1|[1.83774868550595...|[0.86268223080253...|       0.0|\n",
      "|[0.41544386486618...|        0|[5.12137884255644...|[0.99406761464303...|       0.0|\n",
      "|[0.41583386145371...|        0|[3.89409258404408...|[0.98004448826192...|       0.0|\n",
      "|[0.41715009993662...|        0|[0.77040703590809...|[0.68360893719912...|       0.0|\n",
      "|[0.41749134695071...|        1|[1.37419099499657...|[0.79805642801761...|       0.0|\n",
      "|[0.41754009652415...|        1|[3.55718879310646...|[0.97227189015132...|       0.0|\n",
      "|[0.41802759225856...|        0|[10.0140234972180...|[0.99995523429673...|       0.0|\n",
      "|[0.42114756495880...|        0|[2.19803688636904...|[0.90007308406219...|       0.0|\n",
      "|[0.42212255642763...|        0|[2.65149519860399...|[0.93410308648626...|       0.0|\n",
      "|[0.42543752742163...|        0|[4.86037594942745...|[0.99231199273066...|       0.0|\n",
      "|[0.42548627699507...|        0|[1.61141923347073...|[0.83360833509842...|       0.0|\n",
      "|[0.42573002486228...|        0|[5.90146952239873...|[0.99727204002230...|       0.0|\n",
      "|[0.42694876419831...|        0|[2.48627671781162...|[0.92317414964149...|       0.0|\n",
      "|[0.42733876078584...|        0|[0.65117547803250...|[0.65727530505127...|       0.0|\n",
      "|[0.42753375907960...|        0|[3.09703836540200...|[0.95677041509429...|       0.0|\n",
      "|[0.42923999415005...|        0|[2.48320335609390...|[0.92295589195728...|       0.0|\n",
      "|[0.43021498561887...|        0|[1.17736342988498...|[0.76447341032606...|       0.0|\n",
      "|[0.43050748305952...|        0|[5.50283751435593...|[0.99594134818122...|       0.0|\n",
      "|[0.43104372836737...|        1|[0.74817029602872...|[0.67877988520249...|       0.0|\n",
      "|[0.43153122410178...|        0|[7.05377008866792...|[0.99913660119630...|       0.0|\n",
      "|[0.43182372154243...|        1|[2.38249145357911...|[0.91548240857428...|       0.0|\n",
      "|[0.43211621898308...|        1|[1.75661860097557...|[0.85278565785706...|       0.0|\n",
      "|[0.43274996343782...|        1|[2.53838038140943...|[0.92678900954115...|       0.0|\n",
      "|[0.43304246087846...|        0|[2.66586762257289...|[0.93498227352356...|       0.0|\n",
      "|[0.43313996002535...|        0|[3.93730530269061...|[0.98087231071506...|       0.0|\n",
      "|[0.43367620533320...|        0|[2.63787940387350...|[0.93326000275409...|       0.0|\n",
      "|[0.43387120362696...|        1|[-0.2316087643249...|[0.44235526338840...|       1.0|\n",
      "|[0.43411495149417...|        1|[3.63670734543076...|[0.97433700929102...|       0.0|\n",
      "|[0.43450494808170...|        0|[5.61257215730112...|[0.99636162152603...|       0.0|\n",
      "|[0.43650368059279...|        0|[4.22361289272199...|[0.98556576288394...|       0.0|\n",
      "|[0.43679617803344...|        0|[1.17671916802021...|[0.76435738875438...|       0.0|\n",
      "|[0.43679617803344...|        0|[1.62859636328453...|[0.83597726387708...|       0.0|\n",
      "|[0.43699117632720...|        0|[4.33946792247349...|[0.98712447498628...|       0.0|\n",
      "|[0.43781991907570...|        0|[2.72792975143555...|[0.93865473628197...|       0.0|\n",
      "|[0.43845366353044...|        0|[4.71471273162399...|[0.99111717149756...|       0.0|\n",
      "|[0.43874616097109...|        0|[2.06471127351662...|[0.88742569221498...|       0.0|\n",
      "|[0.43879491054453...|        1|[7.52373176706080...|[0.99946017834122...|       0.0|\n",
      "|[0.43894115926485...|        0|[4.77825991844840...|[0.99165952715067...|       0.0|\n",
      "|[0.43923365670550...|        1|[0.29004078545832...|[0.57200611785767...|       0.0|\n",
      "|[0.44025739774777...|        0|[2.55235282611039...|[0.92773142066233...|       0.0|\n",
      "|[0.44054989518841...|        0|[5.12508200340574...|[0.99408941298675...|       0.0|\n",
      "|[0.4414761370838,...|        0|[-1.7016070096972...|[0.15425549690637...|       1.0|\n",
      "|[0.44181738409788...|        0|[0.02872738886397...|[0.50718135334742...|       0.0|\n",
      "|[0.44206113196509...|        0|[2.17357586574605...|[0.89785139136173...|       0.0|\n",
      "|[0.44240237897918...|        0|[4.41465488320674...|[0.98804590052932...|       0.0|\n",
      "|[0.44308487300736...|        1|[2.24075564771352...|[0.90385014794096...|       0.0|\n",
      "|[0.44352361916833...|        0|[3.98394717492546...|[0.98172804886620...|       0.0|\n",
      "|[0.44381611660898...|        1|[1.32251712568015...|[0.78960018580584...|       0.0|\n",
      "|[0.44440111149027...|        0|[5.04642876736414...|[0.99360884600005...|       0.0|\n",
      "|[0.44444986106371...|        0|[5.88264243752286...|[0.99722033807914...|       0.0|\n",
      "|[0.44479110807780...|        0|[1.07534831429128...|[0.74561268608536...|       0.0|\n",
      "|[0.44483985765124...|        0|[3.14139119061654...|[0.95856816742328...|       0.0|\n",
      "|[0.44571734997318...|        0|[3.23288410517561...|[0.96205318296570...|       0.0|\n",
      "|[0.44586359869351...|        0|[2.60541914981512...|[0.93120953363126...|       0.0|\n",
      "|[0.44664359186857...|        1|[1.90791589759085...|[0.87078482870168...|       0.0|\n",
      "|[0.44669234144201...|        0|[2.80381969702680...|[0.94288188465164...|       0.0|\n",
      "|[0.44717983717642...|        0|[2.86210641289866...|[0.94594111538294...|       0.0|\n",
      "|[0.44791108077804...|        0|[5.09336488064820...|[0.99390010339306...|       0.0|\n",
      "|[0.44805732949836...|        0|[3.75378827447858...|[0.97710752111092...|       0.0|\n",
      "|[0.44820357821869...|        1|[3.04882016248315...|[0.95473156222438...|       0.0|\n",
      "|[0.44830107736557...|        0|[3.67072163566670...|[0.97517393245847...|       0.0|\n",
      "|[0.44908107054063...|        0|[1.59753431639298...|[0.83167348966857...|       0.0|\n",
      "|[0.44937356798128...|        0|[3.90160999814427...|[0.98019097917356...|       0.0|\n",
      "|[0.44961731584848...|        0|[2.81256263098545...|[0.94335092178233...|       0.0|\n",
      "|[0.45010481158289...|        0|[0.90200190285160...|[0.71136072048147...|       0.0|\n",
      "|[0.45029980987666...|        0|[0.32253743324360...|[0.57994251929808...|       0.0|\n",
      "|[0.45039730902354...|        0|[4.19726228927764...|[0.98518606586556...|       0.0|\n",
      "|[0.45054355774387...|        0|[1.80520905505136...|[0.85878184773040...|       0.0|\n",
      "|[0.45064105689075...|        1|[1.47433526448258...|[0.81371543075358...|       0.0|\n",
      "|[0.45151854921269...|        0|[4.26976487751160...|[0.98620781373231...|       0.0|\n",
      "|[0.45185979622678...|        0|[4.57861113081802...|[0.98983523458850...|       0.0|\n",
      "|[0.45293228684249...|        0|[4.20518746857434...|[0.98530128610174...|       0.0|\n",
      "|[0.45302978598937...|        1|[1.01892604640984...|[0.73476335354313...|       0.0|\n",
      "|[0.45312728513625...|        0|[2.21028282860440...|[0.90116911933956...|       0.0|\n",
      "|[0.45380977916443...|        0|[4.00433290928496...|[0.98209016131907...|       0.0|\n",
      "|[0.45415102617852...|        0|[3.47566531064356...|[0.96998738609641...|       0.0|\n",
      "|[0.45419977575196...|        0|[6.75241228009193...|[0.99883330423376...|       0.0|\n",
      "|[0.45424852532540...|        0|[3.03140963899448...|[0.95397310760440...|       0.0|\n",
      "|[0.45463852191293...|        1|[2.94828166155747...|[0.95018221210689...|       0.0|\n",
      "|[0.45468727148637...|        0|[3.75083502203670...|[0.97704136837734...|       0.0|\n",
      "|[0.45497976892702...|        0|[6.44374522019805...|[0.99841208651124...|       0.0|\n",
      "|[0.45532101594111...|        0|[3.365564390028,-...|[0.96661083072176...|       0.0|\n",
      "|[0.45532101594111...|        0|[2.85898752772089...|[0.94578140444089...|       0.0|\n",
      "|[0.45546726466143...|        0|[0.68507998712735...|[0.66487155316243...|       0.0|\n",
      "|[0.45585726124896...|        0|[4.32272350714135...|[0.98690991263342...|       0.0|\n",
      "|[0.45585726124896...|        0|[21.1319116946715...|[0.99999999933545...|       0.0|\n",
      "|[0.45610100911617...|        0|[5.90649294937706...|[0.99728567226474...|       0.0|\n",
      "|[0.45610100911617...|        0|[2.74649030075866...|[0.93971482888769...|       0.0|\n",
      "|[0.45668600399746...|        0|[2.96120230122914...|[0.95079027783496...|       0.0|\n",
      "|[0.45731974845220...|        0|[1.05721640217448...|[0.74215823688295...|       0.0|\n",
      "|[0.45770974503973...|        0|[4.96238921224365...|[0.99305241418778...|       0.0|\n",
      "|[0.45790474333349...|        0|[4.19966610591031...|[0.98522110743711...|       0.0|\n",
      "|[0.45839223906790...|        0|[9.72097093806174...|[0.99993999189658...|       0.0|\n",
      "|[0.45848973821479...|        0|[3.36267542969396...|[0.96651746566187...|       0.0|\n",
      "|[0.45848973821479...|        0|[9.86459544189053...|[0.99994801978660...|       0.0|\n",
      "|[0.45853848778823...|        0|[1.90436585468969...|[0.87038485674230...|       0.0|\n",
      "|[0.45858723736167...|        0|[2.97522445162847...|[0.95144221634899...|       0.0|\n",
      "|[0.45873348608199...|        1|[0.59370059523485...|[0.64421378287705...|       0.0|\n",
      "|[0.45873348608199...|        0|[2.88093519190454...|[0.94689590849379...|       0.0|\n",
      "|[0.45912348266952...|        0|[3.64375476826847...|[0.97451263805390...|       0.0|\n",
      "|[0.45912348266952...|        0|[4.86948340874814...|[0.99238116203030...|       0.0|\n",
      "|[0.45917223224296...|        0|[2.18925096945981...|[0.89928008297094...|       0.0|\n",
      "|[0.45956222883049...|        0|[7.50103642175338...|[0.99944779366189...|       0.0|\n",
      "|[0.45975722712426...|        0|[4.35992008840766...|[0.98738184374583...|       0.0|\n",
      "|[0.46000097499146...|        0|[1.57062342923970...|[0.82787246487245...|       0.0|\n",
      "|[0.46000097499146...|        0|[3.17847657436374...|[0.96001623021380...|       0.0|\n",
      "|[0.46024472285867...|        0|[2.93497292364576...|[0.94954844222268...|       0.0|\n",
      "|[0.46024472285867...|        0|[1.65604882593083...|[0.83970689164835...|       0.0|\n",
      "|[0.46053722029932...|        0|[3.45086649957798...|[0.96925697100772...|       0.0|\n",
      "|[0.46063471944620...|        0|[3.71386973385926...|[0.97619739377754...|       0.0|\n",
      "|[0.46141471262126...|        0|[6.96997851652361...|[0.99906120906351...|       0.0|\n",
      "|[0.46204845707600...|        0|[3.47481665780364...|[0.96996267037984...|       0.0|\n",
      "|[0.46219470579632...|        1|[1.46805173512707...|[0.81276107874063...|       0.0|\n",
      "|[0.46224345536976...|        0|[3.13782652396519...|[0.95842636419914...|       0.0|\n",
      "|[0.46238970409008...|        0|[3.42957231600040...|[0.96861606919995...|       0.0|\n",
      "|[0.46238970409008...|        0|[4.8710045732561,...|[0.99239265462755...|       0.0|\n",
      "|[0.46282845025106...|        0|[3.81746715919971...|[0.97848946403229...|       0.0|\n",
      "|[0.46292594939794...|        0|[6.17730065169458...|[0.99792827673723...|       0.0|\n",
      "|[0.46302344854482...|        0|[7.70056600401074...|[0.99954763377440...|       0.0|\n",
      "|[0.46312094769170...|        0|[2.78820801033931...|[0.94203527092710...|       0.0|\n",
      "|[0.46360844342612...|        0|[-0.0198412180400...|[0.49503985821212...|       1.0|\n",
      "|[0.46424218788085...|        0|[2.62218378636020...|[0.93227571590875...|       0.0|\n",
      "|[0.46424218788085...|        0|[7.48476590104051...|[0.99943874057043...|       0.0|\n",
      "|[0.46443718617462...|        0|[3.20199269224986...|[0.96090919691395...|       0.0|\n",
      "|[0.46502218105591...|        1|[3.67033406428114...|[0.97516454773015...|       0.0|\n",
      "|[0.46536342807000...|        0|[5.67241245243420...|[0.99657223251311...|       0.0|\n",
      "|[0.46560717593721...|        0|[5.67818012504112...|[0.99659187866362...|       0.0|\n",
      "|[0.46570467508409...|        0|[4.17777269373319...|[0.98489891913079...|       0.0|\n",
      "|[0.46594842295129...|        0|[4.19047599390993...|[0.98508669659996...|       0.0|\n",
      "|[0.46624092039194...|        1|[2.69032707718442...|[0.93645344827953...|       0.0|\n",
      "|[0.46643591868571...|        1|[1.29489245576481...|[0.78497413682079...|       0.0|\n",
      "|[0.46648466825915...|        0|[4.1412252675497,...|[0.98434560370254...|       0.0|\n",
      "|[0.46672841612635...|        1|[0.42812430137420...|[0.60542568008613...|       0.0|\n",
      "|[0.46672841612635...|        0|[9.42297718606697...|[0.99991916156523...|       0.0|\n",
      "|[0.46682591527324...|        0|[4.40629290245690...|[0.98794673137637...|       0.0|\n",
      "|[0.46702091356700...|        0|[6.47129097121220...|[0.99845516319571...|       0.0|\n",
      "|[0.46711841271388...|        0|[3.01479014067555...|[0.9532378412144,...|       0.0|\n",
      "|[0.46716716228733...|        0|[4.32680699278351...|[0.98696256135632...|       0.0|\n",
      "|[0.46716716228733...|        0|[2.02714585032573...|[0.88361788605041...|       0.0|\n",
      "|[0.46726466143421...|        0|[4.21061836936289...|[0.98537973305122...|       0.0|\n",
      "|[0.46750840930141...|        0|[1.68374448765403...|[0.84339972658813...|       0.0|\n",
      "|[0.46760590844830...|        0|[2.24715551191451...|[0.90440489283121...|       0.0|\n",
      "|[0.46770340759518...|        0|[2.35307250835063...|[0.91317813722980...|       0.0|\n",
      "|[0.46809340418271...|        0|[4.46746579918967...|[0.98865385009160...|       0.0|\n",
      "|[0.46814215375615...|        0|[3.53182274578364...|[0.97157978617338...|       0.0|\n",
      "|[0.46819090332959...|        0|[1.17393753145962...|[0.76385600544257...|       0.0|\n",
      "|[0.46843465119680...|        0|[2.54117445881418...|[0.92697836495602...|       0.0|\n",
      "|[0.46853215034368...|        1|[1.57223198344222...|[0.82810156240255...|       0.0|\n",
      "|[0.46858089991712...|        0|[4.62292767146853...|[0.99027157943508...|       0.0|\n",
      "|[0.46862964949056...|        0|[4.97414553122021...|[0.99313305638773...|       0.0|\n",
      "|[0.46862964949056...|        0|[2.31391196528231...|[0.91002268667972...|       0.0|\n",
      "|[0.46887339735777...|        0|[0.50741618345475...|[0.62420057250140...|       0.0|\n",
      "|[0.46936089309218...|        0|[5.14055952646889...|[0.99417966156789...|       0.0|\n",
      "|[0.46936089309218...|        0|[3.41507333694592...|[0.96817230768669...|       0.0|\n",
      "|[0.46955589138595...|        0|[4.36425203413219...|[0.98743570139619...|       0.0|\n",
      "|[0.46955589138595...|        0|[3.35473412562538...|[0.96625951924049...|       0.0|\n",
      "|[0.46955589138595...|        0|[2.87278924537846...|[0.94648480302503...|       0.0|\n",
      "|[0.46970214010627...|        0|[3.83832578841555...|[0.97892413888212...|       0.0|\n",
      "|[0.46970214010627...|        0|[4.38969650133158...|[0.98774749274885...|       0.0|\n",
      "|[0.46975088967971...|        0|[4.19466807596887...|[0.98514815697369...|       0.0|\n",
      "|[0.46975088967971...|        0|[3.43654776782453...|[0.96882742408257...|       0.0|\n",
      "+--------------------+---------+--------------------+--------------------+----------+\n",
      "only showing top 200 rows\n",
      "\n"
     ]
    }
   ],
   "source": [
    "test_result.predictions.show(200)"
   ]
  },
  {
   "cell_type": "markdown",
   "metadata": {},
   "source": [
    "Evaluating model performance using UAC "
   ]
  },
  {
   "cell_type": "code",
   "execution_count": 29,
   "metadata": {},
   "outputs": [],
   "source": [
    "ev = BinaryClassificationEvaluator(rawPredictionCol='prediction',\n",
    "                                  labelCol='Bankrupt?')"
   ]
  },
  {
   "cell_type": "code",
   "execution_count": 30,
   "metadata": {},
   "outputs": [],
   "source": [
    "auc_eval = ev.evaluate(test_result.predictions)"
   ]
  },
  {
   "cell_type": "code",
   "execution_count": 32,
   "metadata": {},
   "outputs": [
    {
     "data": {
      "text/plain": [
       "0.5920987315645779"
      ]
     },
     "execution_count": 32,
     "metadata": {},
     "output_type": "execute_result"
    }
   ],
   "source": [
    "auc_eval"
   ]
  },
  {
   "cell_type": "code",
   "execution_count": null,
   "metadata": {},
   "outputs": [],
   "source": []
  }
 ],
 "metadata": {
  "kernelspec": {
   "display_name": "Python 3",
   "language": "python",
   "name": "python3"
  },
  "language_info": {
   "codemirror_mode": {
    "name": "ipython",
    "version": 3
   },
   "file_extension": ".py",
   "mimetype": "text/x-python",
   "name": "python",
   "nbconvert_exporter": "python",
   "pygments_lexer": "ipython3",
   "version": "3.8.3"
  }
 },
 "nbformat": 4,
 "nbformat_minor": 4
}
